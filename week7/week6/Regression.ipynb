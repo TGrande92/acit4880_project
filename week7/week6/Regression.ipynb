{
 "cells": [
  {
   "cell_type": "code",
   "execution_count": 1,
   "metadata": {},
   "outputs": [
    {
     "data": {
      "text/html": [
       "<div>\n",
       "<style scoped>\n",
       "    .dataframe tbody tr th:only-of-type {\n",
       "        vertical-align: middle;\n",
       "    }\n",
       "\n",
       "    .dataframe tbody tr th {\n",
       "        vertical-align: top;\n",
       "    }\n",
       "\n",
       "    .dataframe thead th {\n",
       "        text-align: right;\n",
       "    }\n",
       "</style>\n",
       "<table border=\"1\" class=\"dataframe\">\n",
       "  <thead>\n",
       "    <tr style=\"text-align: right;\">\n",
       "      <th></th>\n",
       "      <th>TV</th>\n",
       "      <th>Radio</th>\n",
       "      <th>Newspaper</th>\n",
       "      <th>Sales</th>\n",
       "    </tr>\n",
       "  </thead>\n",
       "  <tbody>\n",
       "    <tr>\n",
       "      <th>0</th>\n",
       "      <td>230.1</td>\n",
       "      <td>37.8</td>\n",
       "      <td>69.2</td>\n",
       "      <td>22.1</td>\n",
       "    </tr>\n",
       "    <tr>\n",
       "      <th>1</th>\n",
       "      <td>44.5</td>\n",
       "      <td>39.3</td>\n",
       "      <td>45.1</td>\n",
       "      <td>10.4</td>\n",
       "    </tr>\n",
       "    <tr>\n",
       "      <th>2</th>\n",
       "      <td>17.2</td>\n",
       "      <td>45.9</td>\n",
       "      <td>69.3</td>\n",
       "      <td>9.3</td>\n",
       "    </tr>\n",
       "    <tr>\n",
       "      <th>3</th>\n",
       "      <td>151.5</td>\n",
       "      <td>41.3</td>\n",
       "      <td>58.5</td>\n",
       "      <td>18.5</td>\n",
       "    </tr>\n",
       "    <tr>\n",
       "      <th>4</th>\n",
       "      <td>180.8</td>\n",
       "      <td>10.8</td>\n",
       "      <td>58.4</td>\n",
       "      <td>12.9</td>\n",
       "    </tr>\n",
       "  </tbody>\n",
       "</table>\n",
       "</div>"
      ],
      "text/plain": [
       "      TV  Radio  Newspaper  Sales\n",
       "0  230.1   37.8       69.2   22.1\n",
       "1   44.5   39.3       45.1   10.4\n",
       "2   17.2   45.9       69.3    9.3\n",
       "3  151.5   41.3       58.5   18.5\n",
       "4  180.8   10.8       58.4   12.9"
      ]
     },
     "execution_count": 1,
     "metadata": {},
     "output_type": "execute_result"
    }
   ],
   "source": [
    "# Import pandas \n",
    "import pandas as pd\n",
    " \n",
    "# Read the dataset using read_csv method\n",
    "df = pd.read_csv(\"Advertising.csv\")\n",
    " \n",
    "# See the top-5 records in the data\n",
    "df.head()"
   ]
  },
  {
   "cell_type": "code",
   "execution_count": 2,
   "metadata": {},
   "outputs": [],
   "source": [
    "# Independent variables or Features\n",
    "X = df[['TV', 'Radio', 'Newspaper']] \n",
    " \n",
    "# Dependent or Target variable\n",
    "y = df.Sales \n"
   ]
  },
  {
   "cell_type": "code",
   "execution_count": 3,
   "metadata": {},
   "outputs": [],
   "source": [
    "# Import train_test_split function from \n",
    "from sklearn.model_selection import train_test_split\n",
    " \n",
    "# Split X and y into training and testing sets\n",
    "X_train, X_test, y_train, y_test = train_test_split(X,y,test_size=0.25,random_state=0)"
   ]
  },
  {
   "cell_type": "code",
   "execution_count": 4,
   "metadata": {},
   "outputs": [
    {
     "name": "stdout",
     "output_type": "stream",
     "text": [
      "2.89257005115115\n",
      "[0.04416235 0.19900368 0.00116268]\n"
     ]
    }
   ],
   "source": [
    "# Import linear regression model\n",
    "from sklearn.linear_model import LinearRegression\n",
    " \n",
    "# Create linear regression model\n",
    "lin_reg = LinearRegression()\n",
    " \n",
    "# Fit the linear regression model\n",
    "lin_reg.fit(X_train, y_train)\n",
    " \n",
    "# Predict the values given test set\n",
    "predictions = lin_reg.predict(X_test)\n",
    "\n",
    "# Print the intercept and coefficients\n",
    "print(lin_reg.intercept_)\n",
    "print(lin_reg.coef_)"
   ]
  },
  {
   "cell_type": "code",
   "execution_count": 5,
   "metadata": {},
   "outputs": [
    {
     "name": "stdout",
     "output_type": "stream",
     "text": [
      "Mean Absolute Error(MAE): 1.3000320919235449\n",
      "Mean Squared Error(MSE): 4.012497522917098\n",
      "Root Mean Squared Error(RMSE): 2.0031219440955406\n",
      "R2-Square: 0.8576396745320893\n"
     ]
    }
   ],
   "source": [
    "# Import the required libraries\n",
    "import numpy as np\n",
    "from sklearn.metrics import mean_absolute_error\n",
    "from sklearn.metrics import mean_squared_error\n",
    "from sklearn.metrics import r2_score\n",
    " \n",
    "# Evaluate mean absolute error\n",
    "print('Mean Absolute Error(MAE):', mean_absolute_error(y_test,predictions))  \n",
    " \n",
    "# Evaluate mean squared error\n",
    "print(\"Mean Squared Error(MSE):\", mean_squared_error(y_test, predictions))  \n",
    " \n",
    "# Evaluate root mean squared error\n",
    "print(\"Root Mean Squared Error(RMSE):\", np.sqrt(mean_squared_error(y_test, predictions)))\n",
    " \n",
    "# Evaluate R2-square\n",
    "print(\"R2-Square:\",r2_score(y_test, predictions))"
   ]
  },
  {
   "cell_type": "markdown",
   "metadata": {},
   "source": [
    "### Q1. Using the above model, what is the expected values of Sales given that: TV= 190, Radio=11, Newspaper=60\n"
   ]
  },
  {
   "cell_type": "code",
   "execution_count": 6,
   "metadata": {},
   "outputs": [
    {
     "name": "stdout",
     "output_type": "stream",
     "text": [
      "[13.54221709]\n"
     ]
    }
   ],
   "source": [
    "new_data = pd.DataFrame({\n",
    "    'TV': [190],\n",
    "    'Radio': [11],\n",
    "    'Newspaper': [60]\n",
    "})\n",
    "\n",
    "sales_prediction = lin_reg.predict(new_data)\n",
    "print(sales_prediction)\n"
   ]
  },
  {
   "cell_type": "markdown",
   "metadata": {},
   "source": [
    "### Q2. Build a linear regression model for the Salaries.csv data set\n"
   ]
  },
  {
   "cell_type": "code",
   "execution_count": 7,
   "metadata": {},
   "outputs": [],
   "source": [
    "df_sal = pd.read_csv(\"Salaries.csv\")\n",
    "df_sal.head()\n",
    "\n",
    "X = df_sal[['YearsExperience']] \n",
    " \n",
    "# Dependent or Target variable\n",
    "y = df_sal.Salary\n",
    " \n",
    "# Split X and y into training and testing sets\n",
    "X_train, X_test, y_train, y_test = train_test_split(X,y,test_size=0.25,random_state=0)\n",
    " \n",
    "# Create linear regression model\n",
    "lin_reg = LinearRegression()\n",
    " \n",
    "# Fit the linear regression model\n",
    "lin_reg.fit(X_train, y_train)\n",
    " \n",
    "# Predict the values given test set\n",
    "predictions = lin_reg.predict(X_test)\n",
    "\n"
   ]
  },
  {
   "cell_type": "markdown",
   "metadata": {},
   "source": [
    "### Q3. Print the model coefficients\n"
   ]
  },
  {
   "cell_type": "code",
   "execution_count": 8,
   "metadata": {},
   "outputs": [
    {
     "name": "stdout",
     "output_type": "stream",
     "text": [
      "26986.691316737248\n",
      "[9379.71049195]\n"
     ]
    }
   ],
   "source": [
    "# Print the intercept and coefficients\n",
    "print(lin_reg.intercept_)\n",
    "print(lin_reg.coef_)\n",
    "\n"
   ]
  },
  {
   "cell_type": "markdown",
   "metadata": {},
   "source": [
    "### Q4. Draw a scatter plot for Salary vs Years of Experience, and on the same chart plot Predicted Salary vs Years of Experience \n"
   ]
  },
  {
   "cell_type": "code",
   "execution_count": 9,
   "metadata": {},
   "outputs": [
    {
     "data": {
      "image/png": "[encoded data removed]",
      "text/plain": [
       "<Figure size 640x480 with 1 Axes>"
      ]
     },
     "metadata": {},
     "output_type": "display_data"
    }
   ],
   "source": [
    "import matplotlib.pyplot as plt\n",
    "\n",
    "plt.scatter(X_test, y_test, color='blue')\n",
    "plt.plot(X_test, predictions, color='red', linewidth=2)\n",
    "plt.xlabel('Years of Experience')\n",
    "plt.ylabel('Salary')\n",
    "plt.title('Salary vs Years of Experience')\n",
    "plt.show()\n"
   ]
  },
  {
   "cell_type": "markdown",
   "metadata": {},
   "source": [
    "### Q5. What's the predicted salary for a person with 12 years of experience\n"
   ]
  },
  {
   "cell_type": "code",
   "execution_count": 10,
   "metadata": {},
   "outputs": [
    {
     "name": "stdout",
     "output_type": "stream",
     "text": [
      "[139543.21722009]\n"
     ]
    }
   ],
   "source": [
    "experience = pd.DataFrame({\n",
    "    'YearsExperience': [12]\n",
    "})\n",
    "predicted_salary = lin_reg.predict(experience)\n",
    "print(predicted_salary)\n"
   ]
  },
  {
   "cell_type": "markdown",
   "metadata": {},
   "source": [
    "### Q6. What's is RSME for the model? What does that mean?"
   ]
  },
  {
   "cell_type": "code",
   "execution_count": 11,
   "metadata": {},
   "outputs": [
    {
     "name": "stdout",
     "output_type": "stream",
     "text": [
      "Mean Absolute Error(MAE): 3508.5455930660555\n",
      "Mean Squared Error(MSE): 22407940.143340684\n",
      "Root Mean Squared Error(RMSE): 4733.70258289858\n",
      "R2-Square: 0.9779208335417602\n"
     ]
    }
   ],
   "source": [
    "# Evaluate mean absolute error\n",
    "print('Mean Absolute Error(MAE):', mean_absolute_error(y_test,predictions))  \n",
    " \n",
    "# Evaluate mean squared error\n",
    "print(\"Mean Squared Error(MSE):\", mean_squared_error(y_test, predictions))  \n",
    " \n",
    "# Evaluate root mean squared error\n",
    "print(\"Root Mean Squared Error(RMSE):\", np.sqrt(mean_squared_error(y_test, predictions)))\n",
    " \n",
    "# Evaluate R2-square\n",
    "print(\"R2-Square:\",r2_score(y_test, predictions))"
   ]
  },
  {
   "cell_type": "markdown",
   "metadata": {},
   "source": [
    "The RSME suggests that a typical prediction error is 4733.703."
   ]
  },
  {
   "cell_type": "markdown",
   "metadata": {},
   "source": [
    "### Logistic Regression"
   ]
  },
  {
   "cell_type": "markdown",
   "metadata": {},
   "source": []
  },
  {
   "cell_type": "code",
   "execution_count": 12,
   "metadata": {},
   "outputs": [
    {
     "data": {
      "text/html": [
       "<div>\n",
       "<style scoped>\n",
       "    .dataframe tbody tr th:only-of-type {\n",
       "        vertical-align: middle;\n",
       "    }\n",
       "\n",
       "    .dataframe tbody tr th {\n",
       "        vertical-align: top;\n",
       "    }\n",
       "\n",
       "    .dataframe thead th {\n",
       "        text-align: right;\n",
       "    }\n",
       "</style>\n",
       "<table border=\"1\" class=\"dataframe\">\n",
       "  <thead>\n",
       "    <tr style=\"text-align: right;\">\n",
       "      <th></th>\n",
       "      <th>pregnant</th>\n",
       "      <th>glucose</th>\n",
       "      <th>bp</th>\n",
       "      <th>skin</th>\n",
       "      <th>insulin</th>\n",
       "      <th>bmi</th>\n",
       "      <th>pedigree</th>\n",
       "      <th>age</th>\n",
       "      <th>label</th>\n",
       "    </tr>\n",
       "  </thead>\n",
       "  <tbody>\n",
       "    <tr>\n",
       "      <th>0</th>\n",
       "      <td>6</td>\n",
       "      <td>148</td>\n",
       "      <td>72</td>\n",
       "      <td>35</td>\n",
       "      <td>0</td>\n",
       "      <td>33.6</td>\n",
       "      <td>0.627</td>\n",
       "      <td>50</td>\n",
       "      <td>1</td>\n",
       "    </tr>\n",
       "    <tr>\n",
       "      <th>1</th>\n",
       "      <td>1</td>\n",
       "      <td>85</td>\n",
       "      <td>66</td>\n",
       "      <td>29</td>\n",
       "      <td>0</td>\n",
       "      <td>26.6</td>\n",
       "      <td>0.351</td>\n",
       "      <td>31</td>\n",
       "      <td>0</td>\n",
       "    </tr>\n",
       "    <tr>\n",
       "      <th>2</th>\n",
       "      <td>8</td>\n",
       "      <td>183</td>\n",
       "      <td>64</td>\n",
       "      <td>0</td>\n",
       "      <td>0</td>\n",
       "      <td>23.3</td>\n",
       "      <td>0.672</td>\n",
       "      <td>32</td>\n",
       "      <td>1</td>\n",
       "    </tr>\n",
       "    <tr>\n",
       "      <th>3</th>\n",
       "      <td>1</td>\n",
       "      <td>89</td>\n",
       "      <td>66</td>\n",
       "      <td>23</td>\n",
       "      <td>94</td>\n",
       "      <td>28.1</td>\n",
       "      <td>0.167</td>\n",
       "      <td>21</td>\n",
       "      <td>0</td>\n",
       "    </tr>\n",
       "    <tr>\n",
       "      <th>4</th>\n",
       "      <td>0</td>\n",
       "      <td>137</td>\n",
       "      <td>40</td>\n",
       "      <td>35</td>\n",
       "      <td>168</td>\n",
       "      <td>43.1</td>\n",
       "      <td>2.288</td>\n",
       "      <td>33</td>\n",
       "      <td>1</td>\n",
       "    </tr>\n",
       "  </tbody>\n",
       "</table>\n",
       "</div>"
      ],
      "text/plain": [
       "   pregnant  glucose  bp  skin  insulin   bmi  pedigree  age  label\n",
       "0         6      148  72    35        0  33.6     0.627   50      1\n",
       "1         1       85  66    29        0  26.6     0.351   31      0\n",
       "2         8      183  64     0        0  23.3     0.672   32      1\n",
       "3         1       89  66    23       94  28.1     0.167   21      0\n",
       "4         0      137  40    35      168  43.1     2.288   33      1"
      ]
     },
     "execution_count": 12,
     "metadata": {},
     "output_type": "execute_result"
    }
   ],
   "source": [
    "# Import libraries\n",
    "import pandas as pd\n",
    " \n",
    "# read the dataset\n",
    "diabetes = pd.read_csv(\"diabetes.csv\")\n",
    " \n",
    "# Show top 5-records\n",
    "diabetes.head()"
   ]
  },
  {
   "cell_type": "code",
   "execution_count": 13,
   "metadata": {},
   "outputs": [],
   "source": [
    "# split dataset in two parts: feature set and target label \n",
    "feature_set = ['pregnant', 'insulin', 'bmi', 'age','glucose','bp','pedigree']\n",
    "features = diabetes[feature_set] \n",
    "target = diabetes.label\n",
    "\n",
    "# partition data into training and testing set \n",
    "from sklearn.model_selection import train_test_split\n",
    "feature_train, feature_test, target_train, target_test = train_test_split(features, target, test_size=0.3, random_state=1)"
   ]
  },
  {
   "cell_type": "code",
   "execution_count": 14,
   "metadata": {},
   "outputs": [
    {
     "name": "stdout",
     "output_type": "stream",
     "text": [
      "[[132  14]\n",
      " [ 36  49]]\n",
      "Accuracy: 0.7835497835497836\n",
      "F1:  0.6621621621621621\n"
     ]
    }
   ],
   "source": [
    "# import logistic regression scikit-learn model\n",
    "from sklearn.linear_model import LogisticRegression\n",
    "from sklearn.metrics import accuracy_score # for performance evaluation\n",
    " \n",
    "# instantiate the model\n",
    "logreg = LogisticRegression(solver='lbfgs')\n",
    " \n",
    "# fit the model with data\n",
    "logreg.fit(feature_train,target_train)\n",
    " \n",
    "# Forecast the target variable for given test dataset\n",
    "predictions = logreg.predict(feature_test)\n",
    "#print(abs(predictions - target_test))\n",
    "\n",
    " \n",
    "# Assess model performance using accuracy measure\n",
    "from sklearn import metrics\n",
    "cnf_matrix = metrics.confusion_matrix(target_test, predictions)\n",
    "print (cnf_matrix)\n",
    "\n",
    "\n",
    "print(\"Accuracy:\",metrics.accuracy_score(target_test, predictions))\n",
    "\n",
    "print (\"F1: \", metrics.f1_score(target_test, predictions, average='binary'))\n"
   ]
  },
  {
   "cell_type": "markdown",
   "metadata": {},
   "source": [
    "### Q7. Given these numbers, check if it's likely that the person will get diabetes\n",
    "### {'pregnant': [7], 'insulin': [180], 'bmi': [35], 'age': [34], 'glucose': [130], 'bp': [70], 'pedigree': [0.6]}"
   ]
  },
  {
   "cell_type": "code",
   "execution_count": 15,
   "metadata": {},
   "outputs": [
    {
     "name": "stdout",
     "output_type": "stream",
     "text": [
      "[0]\n"
     ]
    }
   ],
   "source": [
    "new_patient = pd.DataFrame({'pregnant': [7], 'insulin': [180], 'bmi': [35], 'age': [34], 'glucose': [130], 'bp': [70], 'pedigree': [0.6]})\n",
    "diabetes_likelihood = logreg.predict(new_patient)\n",
    "print(diabetes_likelihood)\n"
   ]
  },
  {
   "cell_type": "markdown",
   "metadata": {},
   "source": [
    "### Q8. Change the age to 35, check if it's likely that the person will get diabetes\n"
   ]
  },
  {
   "cell_type": "code",
   "execution_count": 16,
   "metadata": {},
   "outputs": [
    {
     "name": "stdout",
     "output_type": "stream",
     "text": [
      "[1]\n"
     ]
    }
   ],
   "source": [
    "new_patient = pd.DataFrame({'pregnant': [7], 'insulin': [180], 'bmi': [35], 'age': [35], 'glucose': [130], 'bp': [70], 'pedigree': [0.6]})\n",
    "diabetes_likelihood = logreg.predict(new_patient)\n",
    "print(diabetes_likelihood)"
   ]
  },
  {
   "cell_type": "markdown",
   "metadata": {},
   "source": [
    "### Q9. Given the LoanPayback data set, build a logistic regression model"
   ]
  },
  {
   "cell_type": "code",
   "execution_count": 17,
   "metadata": {},
   "outputs": [
    {
     "name": "stdout",
     "output_type": "stream",
     "text": [
      "Accuracy: 0.9090909090909091\n",
      "Confusion Matrix: \n",
      "[[8 1]\n",
      " [0 2]]\n",
      "F1 Score: 0.8\n"
     ]
    }
   ],
   "source": [
    "loan_data = pd.read_csv('LoanPayback.csv')\n",
    "\n",
    "# Clean the data: Drop the unnecessary NaN columns and rows with any NaN values\n",
    "loan_data = loan_data.dropna(axis='columns', how='all').dropna()\n",
    "\n",
    "\n",
    "X = loan_data[['Income ($000)', 'Loan Amount ($000)', 'State']]\n",
    "y = loan_data['Payback\\n(0 = No, 1 = Yes)']\n",
    "\n",
    "X_train, X_test, y_train, y_test = train_test_split(X, y, test_size=0.3, random_state=0)\n",
    "\n",
    "logistic_model = LogisticRegression(solver='lbfgs', max_iter=1000)  # Increase max_iter if convergence issues\n",
    "\n",
    "# Fit the model with data\n",
    "logistic_model.fit(X_train, y_train)\n",
    "\n",
    "# Predict the target variable for the given test dataset\n",
    "predictions = logistic_model.predict(X_test)\n",
    "\n",
    "# Evaluate the model\n",
    "accuracy = metrics.accuracy_score(y_test, predictions)\n",
    "conf_matrix = metrics.confusion_matrix(y_test, predictions)\n",
    "f1 = metrics.f1_score(y_test, predictions)\n",
    "\n",
    "# Print the results\n",
    "print(f\"Accuracy: {accuracy}\")\n",
    "print(f\"Confusion Matrix: \\n{conf_matrix}\")\n",
    "print(f\"F1 Score: {f1}\")"
   ]
  },
  {
   "cell_type": "markdown",
   "metadata": {},
   "source": [
    "### Q10. Is it likely that a student with income 14000 will payback a 5000 loan?"
   ]
  },
  {
   "cell_type": "code",
   "execution_count": 18,
   "metadata": {},
   "outputs": [
    {
     "name": "stdout",
     "output_type": "stream",
     "text": [
      "[0]\n"
     ]
    }
   ],
   "source": [
    "new_student = pd.DataFrame({'Income ($000)': [14000], 'Loan Amount ($000)': [5000], 'State': [1]})\n",
    "payback_likelihood = logistic_model.predict(new_student)\n",
    "print(payback_likelihood)\n"
   ]
  }
 ],
 "metadata": {
  "kernelspec": {
   "display_name": "Python 3",
   "language": "python",
   "name": "python3"
  },
  "language_info": {
   "codemirror_mode": {
    "name": "ipython",
    "version": 3
   },
   "file_extension": ".py",
   "mimetype": "text/x-python",
   "name": "python",
   "nbconvert_exporter": "python",
   "pygments_lexer": "ipython3",
   "version": "3.10.2"
  }
 },
 "nbformat": 4,
 "nbformat_minor": 2
}
