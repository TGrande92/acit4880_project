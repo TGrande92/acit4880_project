{
 "cells": [
  {
   "cell_type": "code",
   "execution_count": 9,
   "metadata": {},
   "outputs": [
    {
     "name": "stdout",
     "output_type": "stream",
     "text": [
      "Original dataframe had 77 columns. Reduced dataframe has 6 columns.\n",
      "       Lon      Lat  Wind Speed  Weibull K  Hour 10 Weibull K  \\\n",
      "0 -83.0406  23.8024        7.32       2.50               2.38   \n",
      "1 -83.0086  23.8029        7.32       2.50               2.36   \n",
      "2 -83.4677  23.8398        7.34       2.48               2.40   \n",
      "3 -83.4203  23.8405        7.33       2.48               2.38   \n",
      "4 -83.3729  23.8413        7.33       2.48               2.36   \n",
      "\n",
      "   Hour 11 Weibull K  \n",
      "0               2.30  \n",
      "1               2.28  \n",
      "2               2.32  \n",
      "3               2.34  \n",
      "4               2.34  \n"
     ]
    }
   ],
   "source": [
    "import pandas as pd\n",
    "from sklearn.model_selection import train_test_split\n",
    "wind_data = pd.read_csv('./Wind_Speed_Annual/Wind_Speed_Annual.csv')\n",
    "\n",
    "# Drop the block column\n",
    "wind_data.drop(['Block'], axis=1, inplace=True)\n",
    "\n",
    "corr_matrix = wind_data.corr()\n",
    "\n",
    "# Set the threshold\n",
    "threshold = 0.90\n",
    "\n",
    "# List to keep track of columns to drop\n",
    "columns_to_drop = set()\n",
    "\n",
    "# Iterate over the columns of the correlation matrix\n",
    "for i in range(corr_matrix.shape[0]):\n",
    "    for j in range(i+1, corr_matrix.shape[0]):\n",
    "        if abs(corr_matrix.iloc[i, j]) > threshold:\n",
    "            colname = corr_matrix.columns[j]\n",
    "            columns_to_drop.add(colname)\n",
    "\n",
    "# Drop the identified columns\n",
    "reduced_wind_data = wind_data.drop(columns=columns_to_drop)\n",
    "\n",
    "print(f\"Original dataframe had {wind_data.shape[1]} columns. Reduced dataframe has {reduced_wind_data.shape[1]} columns.\")\n",
    "print(reduced_wind_data.head())\n",
    "\n",
    "\n",
    "X = reduced_wind_data[['Lon', 'Lat', 'Wind Speed', 'Hour 10 Weibull K', 'Hour 11 Weibull K']]  # Select your features\n",
    "y = reduced_wind_data['Weibull K']  # Target variable\n",
    "\n",
    "X_train, X_test, y_train, y_test = train_test_split(X, y, test_size=0.3, random_state=42)\n",
    "\n",
    "\n"
   ]
  },
  {
   "cell_type": "markdown",
   "metadata": {},
   "source": [
    "## let's get some statistics"
   ]
  },
  {
   "cell_type": "code",
   "execution_count": 10,
   "metadata": {},
   "outputs": [
    {
     "name": "stdout",
     "output_type": "stream",
     "text": [
      "Mean: \n",
      "Lon                 -88.817263\n",
      "Lat                  27.347716\n",
      "Wind Speed            6.968373\n",
      "Weibull K             2.151248\n",
      "Hour 10 Weibull K     2.148891\n",
      "Hour 11 Weibull K     2.138107\n",
      "dtype: float64\n",
      "\n",
      "Median: \n",
      "Lon                 -88.3718\n",
      "Lat                  27.3475\n",
      "Wind Speed            6.9600\n",
      "Weibull K             2.1200\n",
      "Hour 10 Weibull K     2.1400\n",
      "Hour 11 Weibull K     2.1400\n",
      "dtype: float64\n",
      "\n",
      "Mode: \n",
      "Lon                 -87.0030\n",
      "Lat                  26.4757\n",
      "Wind Speed            6.9200\n",
      "Weibull K             2.0400\n",
      "Hour 10 Weibull K     2.1400\n",
      "Hour 11 Weibull K     2.1400\n",
      "Name: 0, dtype: float64\n",
      "\n",
      "Standard Deviation: \n",
      "Lon                  4.132522\n",
      "Lat                  1.366301\n",
      "Wind Speed           0.402487\n",
      "Weibull K            0.135068\n",
      "Hour 10 Weibull K    0.070551\n",
      "Hour 11 Weibull K    0.084922\n",
      "dtype: float64\n",
      "\n",
      "Variance: \n",
      "Lon                  17.077734\n",
      "Lat                   1.866778\n",
      "Wind Speed            0.161996\n",
      "Weibull K             0.018243\n",
      "Hour 10 Weibull K     0.004977\n",
      "Hour 11 Weibull K     0.007212\n",
      "dtype: float64\n",
      "\n",
      "Range: \n",
      "Lon                  16.0199\n",
      "Lat                   6.4646\n",
      "Wind Speed            2.4300\n",
      "Weibull K             0.7800\n",
      "Hour 10 Weibull K     0.7400\n",
      "Hour 11 Weibull K     0.8400\n",
      "dtype: float64\n",
      "\n",
      "Interquartile Range: \n",
      "Lon                  7.1542\n",
      "Lat                  2.1134\n",
      "Wind Speed           0.3700\n",
      "Weibull K            0.1800\n",
      "Hour 10 Weibull K    0.0600\n",
      "Hour 11 Weibull K    0.0800\n",
      "dtype: float64\n",
      "\n"
     ]
    }
   ],
   "source": [
    "\n",
    "statistics_df = reduced_wind_data\n",
    "mean_values = statistics_df.mean()\n",
    "median_values = statistics_df.median()\n",
    "mode_values = statistics_df.mode().iloc[0]\n",
    "std_dev = statistics_df.std()\n",
    "variance = statistics_df.var()\n",
    "range_values = statistics_df.max() - statistics_df.min()\n",
    "iqr = statistics_df.quantile(0.75) - statistics_df.quantile(0.25)\n",
    "\n",
    "\n",
    "\n",
    "print(f\"Mean: \\n{mean_values}\\n\")\n",
    "print(f\"Median: \\n{median_values}\\n\")\n",
    "print(f\"Mode: \\n{mode_values}\\n\")\n",
    "print(f\"Standard Deviation: \\n{std_dev}\\n\")\n",
    "print(f\"Variance: \\n{variance}\\n\")\n",
    "print(f\"Range: \\n{range_values}\\n\")\n",
    "print(f\"Interquartile Range: \\n{iqr}\\n\")\n"
   ]
  },
  {
   "cell_type": "markdown",
   "metadata": {},
   "source": [
    "# Let's do some training!"
   ]
  },
  {
   "cell_type": "markdown",
   "metadata": {},
   "source": [
    "## Data Preprocessing"
   ]
  },
  {
   "cell_type": "code",
   "execution_count": 11,
   "metadata": {},
   "outputs": [
    {
     "name": "stdout",
     "output_type": "stream",
     "text": [
      "                Lon           Lat    Wind Speed     Weibull C     Weibull K  \\\n",
      "count  29101.000000  29101.000000  29101.000000  29101.000000  29101.000000   \n",
      "mean     -88.817263     27.347716      6.968373      7.865366      2.151248   \n",
      "std        4.132522      1.366301      0.402487      0.453983      0.135068   \n",
      "min      -97.214200     23.802400      5.830000      6.580000      1.900000   \n",
      "25%      -92.365300     26.319400      6.810000      7.690000      2.060000   \n",
      "50%      -88.371800     27.347500      6.960000      7.860000      2.120000   \n",
      "75%      -85.211100     28.432800      7.180000      8.110000      2.240000   \n",
      "max      -81.194300     30.267000      8.260000      9.290000      2.680000   \n",
      "\n",
      "       Hour 00 Wind Speed  Hour 00 Weibull C  Hour 00 Weibull K  \\\n",
      "count        29101.000000       29101.000000       29101.000000   \n",
      "mean             7.254403           8.184387           2.231133   \n",
      "std              0.478671           0.533617           0.206458   \n",
      "min              6.220000           7.020000           1.900000   \n",
      "25%              6.940000           7.830000           2.080000   \n",
      "50%              7.210000           8.130000           2.200000   \n",
      "75%              7.530000           8.500000           2.360000   \n",
      "max              8.650000           9.690000           2.940000   \n",
      "\n",
      "       Hour 01 Wind Speed  Hour 01 Weibull C  ...  Hour 20 Weibull K  \\\n",
      "count        29101.000000       29101.000000  ...       29101.000000   \n",
      "mean             7.241047           8.170623  ...           2.158374   \n",
      "std              0.455167           0.508133  ...           0.253972   \n",
      "min              6.220000           7.030000  ...           1.700000   \n",
      "25%              6.930000           7.830000  ...           1.980000   \n",
      "50%              7.180000           8.110000  ...           2.120000   \n",
      "75%              7.500000           8.460000  ...           2.280000   \n",
      "max              8.570000           9.620000  ...           3.320000   \n",
      "\n",
      "       Hour 21 Wind Speed  Hour 21 Weibull C  Hour 21 Weibull K  \\\n",
      "count        29101.000000       29101.000000       29101.000000   \n",
      "mean             7.128984           8.039789           2.182185   \n",
      "std              0.538270           0.602258           0.253701   \n",
      "min              6.020000           6.780000           1.740000   \n",
      "25%              6.830000           7.700000           2.000000   \n",
      "50%              7.100000           8.020000           2.140000   \n",
      "75%              7.430000           8.390000           2.320000   \n",
      "max              8.810000           9.830000           3.260000   \n",
      "\n",
      "       Hour 22 Wind Speed  Hour 22 Weibull C  Hour 22 Weibull K  \\\n",
      "count        29101.000000       29101.000000       29101.000000   \n",
      "mean             7.202702           8.123767           2.203293   \n",
      "std              0.519150           0.579630           0.244073   \n",
      "min              6.190000           6.980000           1.800000   \n",
      "25%              6.880000           7.760000           2.020000   \n",
      "50%              7.170000           8.090000           2.160000   \n",
      "75%              7.510000           8.470000           2.340000   \n",
      "max              8.770000           9.800000           3.160000   \n",
      "\n",
      "       Hour 23 Wind Speed  Hour 23 Weibull C  Hour 23 Weibull K  \n",
      "count        29101.000000       29101.000000       29101.000000  \n",
      "mean             7.240632           8.167578           2.220216  \n",
      "std              0.499084           0.556402           0.227654  \n",
      "min              6.210000           7.010000           1.840000  \n",
      "25%              6.920000           7.800000           2.060000  \n",
      "50%              7.200000           8.120000           2.180000  \n",
      "75%              7.540000           8.500000           2.340000  \n",
      "max              8.710000           9.750000           3.040000  \n",
      "\n",
      "[8 rows x 77 columns]\n",
      "Lon                   0\n",
      "Lat                   0\n",
      "Wind Speed            0\n",
      "Weibull C             0\n",
      "Weibull K             0\n",
      "                     ..\n",
      "Hour 22 Weibull C     0\n",
      "Hour 22 Weibull K     0\n",
      "Hour 23 Wind Speed    0\n",
      "Hour 23 Weibull C     0\n",
      "Hour 23 Weibull K     0\n",
      "Length: 77, dtype: int64\n"
     ]
    }
   ],
   "source": [
    "import pandas as pd\n",
    "from sklearn.model_selection import train_test_split\n",
    "from sklearn.preprocessing import StandardScaler\n",
    "\n",
    "# Load dataset\n",
    "# wind_data = pd.read_csv('./Wind_Speed_Annual/Wind_Speed_Annual.csv')\n",
    "\n",
    "# Exploratory Data Analysis (EDA)\n",
    "print(wind_data.describe())\n",
    "print(wind_data.isnull().sum())\n",
    "\n",
    "# Handling missing values (if any)\n",
    "wind_data.fillna(wind_data.mean(), inplace=True)\n",
    "\n",
    "# Feature selection\n",
    "X = wind_data.drop('Wind Speed', axis=1)  # Replace 'target_column' with your target variable name\n",
    "y = wind_data['Wind Speed']\n",
    "\n",
    "# Splitting the dataset\n",
    "X_train, X_test, y_train, y_test = train_test_split(X, y, test_size=0.3, random_state=42)\n",
    "\n",
    "# Scaling features\n",
    "scaler = StandardScaler()\n",
    "X_train_scaled = scaler.fit_transform(X_train)\n",
    "X_test_scaled = scaler.transform(X_test)\n"
   ]
  },
  {
   "cell_type": "markdown",
   "metadata": {},
   "source": [
    "## Linear Regression"
   ]
  },
  {
   "cell_type": "code",
   "execution_count": 12,
   "metadata": {},
   "outputs": [
    {
     "name": "stdout",
     "output_type": "stream",
     "text": [
      "Linear Regression - MSE: 8.759340110167196e-06 R2 Score: 0.999947351448233\n"
     ]
    }
   ],
   "source": [
    "from sklearn.linear_model import LinearRegression\n",
    "from sklearn.metrics import mean_squared_error, r2_score\n",
    "\n",
    "# Linear Regression\n",
    "linear_model = LinearRegression()\n",
    "linear_model.fit(X_train_scaled, y_train)\n",
    "linear_predictions = linear_model.predict(X_test_scaled)\n",
    "\n",
    "# Evaluation\n",
    "linear_mse = mean_squared_error(y_test, linear_predictions)\n",
    "linear_r2 = r2_score(y_test, linear_predictions)\n",
    "print('Linear Regression - MSE:', linear_mse, 'R2 Score:', linear_r2)\n"
   ]
  },
  {
   "cell_type": "markdown",
   "metadata": {},
   "source": [
    "## SVR (Support Vector Regression)"
   ]
  },
  {
   "cell_type": "code",
   "execution_count": 15,
   "metadata": {},
   "outputs": [
    {
     "name": "stdout",
     "output_type": "stream",
     "text": [
      "SVR - MSE: 0.0027382268686884067 R2 Score: 0.9835417192125421\n"
     ]
    }
   ],
   "source": [
    "from sklearn.svm import SVR\n",
    "\n",
    "# SVR\n",
    "svr_model = SVR()\n",
    "svr_model.fit(X_train_scaled, y_train)\n",
    "svr_predictions = svr_model.predict(X_test_scaled)\n",
    "\n",
    "# Evaluation\n",
    "svr_mse = mean_squared_error(y_test, svr_predictions)\n",
    "svr_r2 = r2_score(y_test, svr_predictions)\n",
    "print('SVR - MSE:', svr_mse, 'R2 Score:', svr_r2)\n"
   ]
  },
  {
   "cell_type": "markdown",
   "metadata": {},
   "source": [
    "## Decision Tree Regression"
   ]
  },
  {
   "cell_type": "code",
   "execution_count": 18,
   "metadata": {},
   "outputs": [
    {
     "name": "stdout",
     "output_type": "stream",
     "text": [
      "Decision Tree - MSE: 2.5518268239605944e-05 R2 Score: 0.9998466208813084\n"
     ]
    }
   ],
   "source": [
    "from sklearn.tree import DecisionTreeRegressor\n",
    "\n",
    "# Decision Tree Regression\n",
    "dt_model = DecisionTreeRegressor()\n",
    "dt_model.fit(X_train_scaled, y_train)\n",
    "dt_predictions = dt_model.predict(X_test_scaled)\n",
    "\n",
    "# Evaluation\n",
    "dt_mse = mean_squared_error(y_test, dt_predictions)\n",
    "dt_r2 = r2_score(y_test, dt_predictions)\n",
    "print('Decision Tree - MSE:', dt_mse, 'R2 Score:', dt_r2)\n"
   ]
  },
  {
   "cell_type": "markdown",
   "metadata": {},
   "source": [
    "## kNN regression"
   ]
  },
  {
   "cell_type": "code",
   "execution_count": 21,
   "metadata": {},
   "outputs": [
    {
     "name": "stdout",
     "output_type": "stream",
     "text": [
      "kNN Regression - MSE: 3.368686290230227e-05 R2 Score: 0.9997975230413394\n"
     ]
    }
   ],
   "source": [
    "from sklearn.neighbors import KNeighborsRegressor\n",
    "\n",
    "# kNN Regression\n",
    "knn_model = KNeighborsRegressor()\n",
    "knn_model.fit(X_train_scaled, y_train)\n",
    "knn_predictions = knn_model.predict(X_test_scaled)\n",
    "\n",
    "# Evaluation\n",
    "knn_mse = mean_squared_error(y_test, knn_predictions)\n",
    "knn_r2 = r2_score(y_test, knn_predictions)\n",
    "print('kNN Regression - MSE:', knn_mse, 'R2 Score:', knn_r2)\n"
   ]
  },
  {
   "cell_type": "markdown",
   "metadata": {},
   "source": [
    "## Hypertuning for kNN (Random Search)"
   ]
  },
  {
   "cell_type": "code",
   "execution_count": 25,
   "metadata": {},
   "outputs": [
    {
     "name": "stdout",
     "output_type": "stream",
     "text": [
      "Fitting 5 folds for each of 100 candidates, totalling 500 fits\n",
      "Best Parameters for kNN Regression: {'weights': 'distance', 'n_neighbors': 9, 'algorithm': 'ball_tree'}\n",
      "Best Score for kNN Regression: 0.9997792610548089\n"
     ]
    }
   ],
   "source": [
    "from sklearn.neighbors import KNeighborsRegressor\n",
    "from sklearn.model_selection import RandomizedSearchCV\n",
    "\n",
    "# Define the parameter space for kNN\n",
    "param_distributions = {\n",
    "    'n_neighbors': range(1, 30),\n",
    "    'weights': ['uniform', 'distance'],\n",
    "    'algorithm': ['auto', 'ball_tree', 'kd_tree', 'brute']\n",
    "}\n",
    "\n",
    "# Randomized Search\n",
    "knn_random_search = RandomizedSearchCV(KNeighborsRegressor(), param_distributions, n_iter=100, cv=5, scoring='r2', verbose=2, random_state=42, n_jobs=-1)\n",
    "knn_random_search.fit(X_train_scaled, y_train)\n",
    "\n",
    "# Best Parameters and Score\n",
    "print(\"Best Parameters for kNN Regression:\", knn_random_search.best_params_)\n",
    "print(\"Best Score for kNN Regression:\", knn_random_search.best_score_)\n"
   ]
  },
  {
   "cell_type": "markdown",
   "metadata": {},
   "source": [
    "## Hypertuning for SVR (RandomSearch)"
   ]
  },
  {
   "cell_type": "code",
   "execution_count": 28,
   "metadata": {},
   "outputs": [
    {
     "name": "stdout",
     "output_type": "stream",
     "text": [
      "Fitting 5 folds for each of 80 candidates, totalling 400 fits\n"
     ]
    },
    {
     "name": "stderr",
     "output_type": "stream",
     "text": [
      "c:\\Users\\tyler\\Documents\\term4\\acit4880\\week7\\.venv\\lib\\site-packages\\sklearn\\model_selection\\_search.py:307: UserWarning: The total space of parameters 80 is smaller than n_iter=100. Running 80 iterations. For exhaustive searches, use GridSearchCV.\n",
      "  warnings.warn(\n"
     ]
    },
    {
     "name": "stdout",
     "output_type": "stream",
     "text": [
      "Best Parameters for SVR: {'kernel': 'rbf', 'gamma': 'auto', 'C': 0.4832930238571752}\n",
      "Best Score for SVR: 0.9827971194154774\n"
     ]
    }
   ],
   "source": [
    "import numpy as np\n",
    "\n",
    "# Define the parameter space for SVR\n",
    "param_distributions = {\n",
    "    'C': np.logspace(-2, 2, 20),\n",
    "    'gamma': ['scale', 'auto'],\n",
    "    'kernel': ['rbf', 'linear']\n",
    "}\n",
    "\n",
    "# Randomized Search\n",
    "svr_random_search = RandomizedSearchCV(SVR(), param_distributions, n_iter=100, cv=5, scoring='r2', verbose=2, random_state=42, n_jobs=-1)\n",
    "svr_random_search.fit(X_train_scaled, y_train)\n",
    "\n",
    "# Best Parameters and Score\n",
    "print(\"Best Parameters for SVR:\", svr_random_search.best_params_)\n",
    "print(\"Best Score for SVR:\", svr_random_search.best_score_)"
   ]
  },
  {
   "cell_type": "markdown",
   "metadata": {},
   "source": [
    "## Hypertuning for Decision Tree Regression using GridSearch"
   ]
  },
  {
   "cell_type": "code",
   "execution_count": 30,
   "metadata": {},
   "outputs": [
    {
     "name": "stdout",
     "output_type": "stream",
     "text": [
      "Fitting 5 folds for each of 45 candidates, totalling 225 fits\n",
      "Best Parameters for Decision Tree Regression: {'max_depth': 10, 'min_samples_leaf': 4, 'min_samples_split': 10}\n",
      "Best Score for Decision Tree Regression: 0.9998815669156119\n"
     ]
    }
   ],
   "source": [
    "from sklearn.tree import DecisionTreeRegressor\n",
    "from sklearn.model_selection import GridSearchCV\n",
    "\n",
    "# Define the parameter grid for Decision Tree Regression\n",
    "param_grid = {\n",
    "    'max_depth': [None, 3, 5, 10, 20],\n",
    "    'min_samples_split': [2, 5, 10],\n",
    "    'min_samples_leaf': [1, 2, 4]\n",
    "}\n",
    "\n",
    "# Grid Search for Decision Tree Regression\n",
    "dt_grid_search = GridSearchCV(DecisionTreeRegressor(), param_grid, cv=5, scoring='r2', verbose=1)\n",
    "dt_grid_search.fit(X_train_scaled, y_train)\n",
    "\n",
    "# Best Parameters and Score\n",
    "print(\"Best Parameters for Decision Tree Regression:\", dt_grid_search.best_params_)\n",
    "print(\"Best Score for Decision Tree Regression:\", dt_grid_search.best_score_)\n"
   ]
  },
  {
   "cell_type": "code",
   "execution_count": 36,
   "metadata": {},
   "outputs": [
    {
     "name": "stdout",
     "output_type": "stream",
     "text": [
      "Fitting 5 folds for each of 12 candidates, totalling 60 fits\n",
      "Best Parameters for SVR: {'C': 1, 'gamma': 'scale', 'kernel': 'rbf'}\n",
      "Best Score for SVR: 0.9827172988305009\n"
     ]
    }
   ],
   "source": [
    "from sklearn.model_selection import GridSearchCV\n",
    "\n",
    "param_grid = {'C': [0.1, 1, 10], 'gamma': ['scale', 'auto'], 'kernel': ['rbf', 'linear']}\n",
    "svr_grid_search = GridSearchCV(SVR(), param_grid, cv=5, scoring='r2', verbose=1)\n",
    "svr_grid_search.fit(X_train_scaled, y_train)\n",
    "\n",
    "print(\"Best Parameters for SVR:\", svr_grid_search.best_params_)\n",
    "print(\"Best Score for SVR:\", svr_grid_search.best_score_)\n",
    "\n",
    "svr_best_params = svr_grid_search.best_params_\n"
   ]
  },
  {
   "cell_type": "markdown",
   "metadata": {},
   "source": [
    "### Retraining the models"
   ]
  },
  {
   "cell_type": "code",
   "execution_count": 37,
   "metadata": {},
   "outputs": [
    {
     "data": {
      "text/html": [
       "<style>#sk-container-id-1 {color: black;}#sk-container-id-1 pre{padding: 0;}#sk-container-id-1 div.sk-toggleable {background-color: white;}#sk-container-id-1 label.sk-toggleable__label {cursor: pointer;display: block;width: 100%;margin-bottom: 0;padding: 0.3em;box-sizing: border-box;text-align: center;}#sk-container-id-1 label.sk-toggleable__label-arrow:before {content: \"▸\";float: left;margin-right: 0.25em;color: #696969;}#sk-container-id-1 label.sk-toggleable__label-arrow:hover:before {color: black;}#sk-container-id-1 div.sk-estimator:hover label.sk-toggleable__label-arrow:before {color: black;}#sk-container-id-1 div.sk-toggleable__content {max-height: 0;max-width: 0;overflow: hidden;text-align: left;background-color: #f0f8ff;}#sk-container-id-1 div.sk-toggleable__content pre {margin: 0.2em;color: black;border-radius: 0.25em;background-color: #f0f8ff;}#sk-container-id-1 input.sk-toggleable__control:checked~div.sk-toggleable__content {max-height: 200px;max-width: 100%;overflow: auto;}#sk-container-id-1 input.sk-toggleable__control:checked~label.sk-toggleable__label-arrow:before {content: \"▾\";}#sk-container-id-1 div.sk-estimator input.sk-toggleable__control:checked~label.sk-toggleable__label {background-color: #d4ebff;}#sk-container-id-1 div.sk-label input.sk-toggleable__control:checked~label.sk-toggleable__label {background-color: #d4ebff;}#sk-container-id-1 input.sk-hidden--visually {border: 0;clip: rect(1px 1px 1px 1px);clip: rect(1px, 1px, 1px, 1px);height: 1px;margin: -1px;overflow: hidden;padding: 0;position: absolute;width: 1px;}#sk-container-id-1 div.sk-estimator {font-family: monospace;background-color: #f0f8ff;border: 1px dotted black;border-radius: 0.25em;box-sizing: border-box;margin-bottom: 0.5em;}#sk-container-id-1 div.sk-estimator:hover {background-color: #d4ebff;}#sk-container-id-1 div.sk-parallel-item::after {content: \"\";width: 100%;border-bottom: 1px solid gray;flex-grow: 1;}#sk-container-id-1 div.sk-label:hover label.sk-toggleable__label {background-color: #d4ebff;}#sk-container-id-1 div.sk-serial::before {content: \"\";position: absolute;border-left: 1px solid gray;box-sizing: border-box;top: 0;bottom: 0;left: 50%;z-index: 0;}#sk-container-id-1 div.sk-serial {display: flex;flex-direction: column;align-items: center;background-color: white;padding-right: 0.2em;padding-left: 0.2em;position: relative;}#sk-container-id-1 div.sk-item {position: relative;z-index: 1;}#sk-container-id-1 div.sk-parallel {display: flex;align-items: stretch;justify-content: center;background-color: white;position: relative;}#sk-container-id-1 div.sk-item::before, #sk-container-id-1 div.sk-parallel-item::before {content: \"\";position: absolute;border-left: 1px solid gray;box-sizing: border-box;top: 0;bottom: 0;left: 50%;z-index: -1;}#sk-container-id-1 div.sk-parallel-item {display: flex;flex-direction: column;z-index: 1;position: relative;background-color: white;}#sk-container-id-1 div.sk-parallel-item:first-child::after {align-self: flex-end;width: 50%;}#sk-container-id-1 div.sk-parallel-item:last-child::after {align-self: flex-start;width: 50%;}#sk-container-id-1 div.sk-parallel-item:only-child::after {width: 0;}#sk-container-id-1 div.sk-dashed-wrapped {border: 1px dashed gray;margin: 0 0.4em 0.5em 0.4em;box-sizing: border-box;padding-bottom: 0.4em;background-color: white;}#sk-container-id-1 div.sk-label label {font-family: monospace;font-weight: bold;display: inline-block;line-height: 1.2em;}#sk-container-id-1 div.sk-label-container {text-align: center;}#sk-container-id-1 div.sk-container {/* jupyter's `normalize.less` sets `[hidden] { display: none; }` but bootstrap.min.css set `[hidden] { display: none !important; }` so we also need the `!important` here to be able to override the default hidden behavior on the sphinx rendered scikit-learn.org. See: https://github.com/scikit-learn/scikit-learn/issues/21755 */display: inline-block !important;position: relative;}#sk-container-id-1 div.sk-text-repr-fallback {display: none;}</style><div id=\"sk-container-id-1\" class=\"sk-top-container\"><div class=\"sk-text-repr-fallback\"><pre>SVR(C=1)</pre><b>In a Jupyter environment, please rerun this cell to show the HTML representation or trust the notebook. <br />On GitHub, the HTML representation is unable to render, please try loading this page with nbviewer.org.</b></div><div class=\"sk-container\" hidden><div class=\"sk-item\"><div class=\"sk-estimator sk-toggleable\"><input class=\"sk-toggleable__control sk-hidden--visually\" id=\"sk-estimator-id-1\" type=\"checkbox\" checked><label for=\"sk-estimator-id-1\" class=\"sk-toggleable__label sk-toggleable__label-arrow\">SVR</label><div class=\"sk-toggleable__content\"><pre>SVR(C=1)</pre></div></div></div></div></div>"
      ],
      "text/plain": [
       "SVR(C=1)"
      ]
     },
     "execution_count": 37,
     "metadata": {},
     "output_type": "execute_result"
    }
   ],
   "source": [
    "from sklearn.svm import SVR\n",
    "\n",
    "# Assuming best_params_ for SVR from GridSearchCV is stored in svr_best_params\n",
    "# svr_best_params = svr_grid_search.best_params_\n",
    "\n",
    "svr_model = SVR(C=svr_best_params['C'], gamma=svr_best_params['gamma'], kernel=svr_best_params['kernel'])\n",
    "svr_model.fit(X_train_scaled, y_train)\n",
    "\n",
    "# Evaluate this model on the test data\n"
   ]
  },
  {
   "cell_type": "markdown",
   "metadata": {},
   "source": []
  }
 ],
 "metadata": {
  "kernelspec": {
   "display_name": "Python 3",
   "language": "python",
   "name": "python3"
  },
  "language_info": {
   "codemirror_mode": {
    "name": "ipython",
    "version": 3
   },
   "file_extension": ".py",
   "mimetype": "text/x-python",
   "name": "python",
   "nbconvert_exporter": "python",
   "pygments_lexer": "ipython3",
   "version": "3.10.2"
  }
 },
 "nbformat": 4,
 "nbformat_minor": 2
}
