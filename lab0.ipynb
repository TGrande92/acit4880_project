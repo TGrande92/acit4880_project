{
 "cells": [
  {
   "cell_type": "code",
   "execution_count": 1,
   "metadata": {},
   "outputs": [
    {
     "name": "stdout",
     "output_type": "stream",
     "text": [
      "Current Number 0 Previous Number 0 Sum: 0\n",
      "Current Number 1 Previous Number 0 Sum: 1\n",
      "Current Number 2 Previous Number 1 Sum: 3\n",
      "Current Number 3 Previous Number 2 Sum: 5\n",
      "Current Number 4 Previous Number 3 Sum: 7\n",
      "Current Number 5 Previous Number 4 Sum: 9\n",
      "Current Number 6 Previous Number 5 Sum: 11\n",
      "Current Number 7 Previous Number 6 Sum: 13\n",
      "Current Number 8 Previous Number 7 Sum: 15\n",
      "Current Number 9 Previous Number 8 Sum: 17\n"
     ]
    }
   ],
   "source": [
    "def sum(num1, num2):\n",
    "    return num1 + num2\n",
    "\n",
    "def num_iteration():\n",
    "    prev_num = 0\n",
    "    for num in range(0, 10):\n",
    "        total = sum(num, prev_num)\n",
    "        print(f\"Current Number {num} Previous Number {prev_num} Sum: {total}\")\n",
    "        prev_num = num\n",
    "\n",
    "num_iteration()"
   ]
  },
  {
   "cell_type": "code",
   "execution_count": null,
   "metadata": {},
   "outputs": [],
   "source": []
  }
 ],
 "metadata": {
  "kernelspec": {
   "display_name": "Python 3",
   "language": "python",
   "name": "python3"
  },
  "language_info": {
   "codemirror_mode": {
    "name": "ipython",
    "version": 3
   },
   "file_extension": ".py",
   "mimetype": "text/x-python",
   "name": "python",
   "nbconvert_exporter": "python",
   "pygments_lexer": "ipython3",
   "version": "3.10.2"
  },
  "orig_nbformat": 4
 },
 "nbformat": 4,
 "nbformat_minor": 2
}
