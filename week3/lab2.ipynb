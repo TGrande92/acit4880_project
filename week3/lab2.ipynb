{
 "cells": [
  {
   "cell_type": "markdown",
   "metadata": {},
   "source": [
    "Lab2 – Python Data Structures, NumPy, and Pandas"
   ]
  },
  {
   "cell_type": "markdown",
   "metadata": {},
   "source": [
    "Part1: Standard Data Structures\n",
    "1. Print element 5 from the following nested tuple:\n",
    "tup = 4, 5, 6\n",
    "nested_tup = (4, 5, 6), (7, 8)"
   ]
  },
  {
   "cell_type": "code",
   "execution_count": 6,
   "metadata": {},
   "outputs": [
    {
     "name": "stdout",
     "output_type": "stream",
     "text": [
      "5\n"
     ]
    }
   ],
   "source": [
    "tup = 4,5,6 \n",
    "nested_tup = (4,5,6),(7,8)\n",
    "print(nested_tup[0][1])"
   ]
  },
  {
   "cell_type": "markdown",
   "metadata": {},
   "source": [
    "2. Use the following to build a dictionary d1 = {'a' : 'some value', 'b' : [1, 2, 3, 4]},\n",
    "then get the element with key ‘a’ in the dictionary."
   ]
  },
  {
   "cell_type": "code",
   "execution_count": 9,
   "metadata": {},
   "outputs": [
    {
     "name": "stdout",
     "output_type": "stream",
     "text": [
      "some value\n"
     ]
    }
   ],
   "source": [
    "d1 = {'a' : 'some value', \n",
    "      'b' : [1, 2, 3, 4]}\n",
    "print(d1['a'])"
   ]
  },
  {
   "cell_type": "markdown",
   "metadata": {},
   "source": [
    "3. Add the following element to the dictionary d1[5] = Another value'"
   ]
  },
  {
   "cell_type": "code",
   "execution_count": 10,
   "metadata": {},
   "outputs": [],
   "source": [
    "d1[5] = 'another value'"
   ]
  },
  {
   "cell_type": "markdown",
   "metadata": {},
   "source": [
    "4. Print the dictionary then delete the added element in step 3 using del d1[5], then\n",
    "print the dictionary again."
   ]
  },
  {
   "cell_type": "code",
   "execution_count": 11,
   "metadata": {},
   "outputs": [
    {
     "name": "stdout",
     "output_type": "stream",
     "text": [
      "{'a': 'some value', 'b': [1, 2, 3, 4], 5: 'another value'}\n",
      "{'a': 'some value', 'b': [1, 2, 3, 4]}\n"
     ]
    }
   ],
   "source": [
    "print(d1)\n",
    "del d1[5]\n",
    "print(d1)"
   ]
  },
  {
   "cell_type": "markdown",
   "metadata": {},
   "source": [
    "5. Update the dictionary like this d1.update({'b' : 'foo', 'c' : 12}), then print d1."
   ]
  },
  {
   "cell_type": "code",
   "execution_count": null,
   "metadata": {},
   "outputs": [],
   "source": [
    "d1.update({'b' : 'foo', 'c' : 12})\n",
    "print(d1)"
   ]
  },
  {
   "cell_type": "markdown",
   "metadata": {},
   "source": [
    "6. Type the following code and print the by_letter dictionary. Explain the output.\n",
    "words = ['apple', 'bat', 'bar', 'atom', 'book']\n",
    "by_letter = {}\n",
    "for word in words:\n",
    "letter = word[0]\n",
    "if letter not in by_letter:\n",
    "by_letter[letter] = [word]\n",
    "else:\n",
    "by_letter[letter].append(word)"
   ]
  },
  {
   "cell_type": "code",
   "execution_count": 12,
   "metadata": {},
   "outputs": [
    {
     "name": "stdout",
     "output_type": "stream",
     "text": [
      "{'a': ['apple', 'atom'], 'b': ['bat', 'bar', 'book']}\n"
     ]
    }
   ],
   "source": [
    "words = ['apple', 'bat', 'bar', 'atom', 'book']\n",
    "by_letter = {}\n",
    "for word in words:\n",
    "    letter = word[0]\n",
    "    if letter not in by_letter:\n",
    "        by_letter[letter] = [word]\n",
    "    else:\n",
    "        by_letter[letter].append(word)\n",
    "print(by_letter)"
   ]
  },
  {
   "cell_type": "markdown",
   "metadata": {},
   "source": [
    "We are looping through each word and looking at the first letter of each word, we save the letter to a variable and then if the letter is not already in the dictionary, it is added. Each word is added to the dictionary under the key using the first letter of the word."
   ]
  },
  {
   "cell_type": "markdown",
   "metadata": {},
   "source": [
    "Part2: NumPy\n",
    "1. Type the following code and explain the results.\n",
    "import numpy as np\n",
    "np.array([1,1,2,2,3])\n",
    "print (type(np.array([1,1,2,2,3])))\n",
    "x = np.array([1,1,2,2,3, 5])\n",
    "print (x)\n",
    "print (x.shape)\n",
    "y = x.reshape((2,3))\n",
    "print(y)\n",
    "print (y.shape)"
   ]
  },
  {
   "cell_type": "code",
   "execution_count": 13,
   "metadata": {},
   "outputs": [
    {
     "name": "stdout",
     "output_type": "stream",
     "text": [
      "<class 'numpy.ndarray'>\n",
      "[1 1 2 2 3 5]\n",
      "(6,)\n",
      "[[1 1 2]\n",
      " [2 3 5]]\n",
      "(2, 3)\n"
     ]
    }
   ],
   "source": [
    "import numpy as np\n",
    "np.array([1,1,2,2,3])\n",
    "print (type(np.array([1,1,2,2,3])))\n",
    "x = np.array([1,1,2,2,3, 5])\n",
    "print (x)\n",
    "print (x.shape)\n",
    "y = x.reshape((2,3))\n",
    "print(y)\n",
    "print (y.shape)"
   ]
  },
  {
   "cell_type": "markdown",
   "metadata": {},
   "source": [
    "np.array([1,1,2,2,3])\n",
    "print (type(np.array([1,1,2,2,3])))\n",
    "The first print is displaying the data type of the numpy array\n",
    "\n",
    "x = np.array([1,1,2,2,3, 5])\n",
    "print (x)\n",
    "The second print is showing how numpy converts the array into a single-dimensional array\n",
    "\n",
    "print (x.shape)\n",
    "The third print shows a dataset with 1 colum and 6 rows\n",
    "\n",
    "y = x.reshape((2,3))\n",
    "print(y)\n",
    "The 4th print shows a reformated state of the data where it has been changed to be 2 rows and 3 columns\n",
    "\n",
    "print (y.shape)\n",
    "The 5th print confirms the 2 rows by 3 columns"
   ]
  },
  {
   "cell_type": "markdown",
   "metadata": {},
   "source": [
    "2. Type the following code, and explain the results:\n",
    "a = np.arange(1, 20, 2)\n",
    "print (a)\n",
    "b = np.array([])\n",
    "print (b)\n",
    "c = np.zeros(6)\n",
    "print (c)\n",
    "d = np.ones(6)\n",
    "print (d)\n",
    "e = np.array(range(1,6))\n",
    "print (e)\n",
    "np.linspace(0, 5, 50)"
   ]
  },
  {
   "cell_type": "code",
   "execution_count": 19,
   "metadata": {},
   "outputs": [
    {
     "name": "stdout",
     "output_type": "stream",
     "text": [
      "[ 1  3  5  7  9 11 13 15 17 19]\n",
      "[]\n",
      "[0. 0. 0. 0. 0. 0.]\n",
      "[1. 1. 1. 1. 1. 1.]\n",
      "[1 2 3 4 5]\n"
     ]
    },
    {
     "data": {
      "text/plain": [
       "array([0.        , 0.10204082, 0.20408163, 0.30612245, 0.40816327,\n",
       "       0.51020408, 0.6122449 , 0.71428571, 0.81632653, 0.91836735,\n",
       "       1.02040816, 1.12244898, 1.2244898 , 1.32653061, 1.42857143,\n",
       "       1.53061224, 1.63265306, 1.73469388, 1.83673469, 1.93877551,\n",
       "       2.04081633, 2.14285714, 2.24489796, 2.34693878, 2.44897959,\n",
       "       2.55102041, 2.65306122, 2.75510204, 2.85714286, 2.95918367,\n",
       "       3.06122449, 3.16326531, 3.26530612, 3.36734694, 3.46938776,\n",
       "       3.57142857, 3.67346939, 3.7755102 , 3.87755102, 3.97959184,\n",
       "       4.08163265, 4.18367347, 4.28571429, 4.3877551 , 4.48979592,\n",
       "       4.59183673, 4.69387755, 4.79591837, 4.89795918, 5.        ])"
      ]
     },
     "execution_count": 19,
     "metadata": {},
     "output_type": "execute_result"
    }
   ],
   "source": [
    "a = np.arange(1, 20, 2)\n",
    "print (a)\n",
    "b = np.array([])\n",
    "print (b)\n",
    "c = np.zeros(6)\n",
    "print (c)\n",
    "d = np.ones(6)\n",
    "print (d)\n",
    "e = np.array(range(1,6))\n",
    "print (e)\n",
    "np.linspace(0, 5, 50)"
   ]
  },
  {
   "cell_type": "markdown",
   "metadata": {},
   "source": [
    "\n",
    "a = np.arange(1, 20, 2)\n",
    "print (a)\n",
    "First we are going to create a single-dimension array starting at 1 going until 20 but only adding every 2nd number. (Start stop step)\n",
    "\n",
    "b = np.array([])\n",
    "print (b)\n",
    "Second is an empty array, showing that it still exists\n",
    "\n",
    "c = np.zeros(6)\n",
    "print (c)\n",
    "Third shows an array that fills with the integers quantity of zeroes\n",
    "\n",
    "d = np.ones(6)\n",
    "print (d)\n",
    "Fourth shows an array that fills with the integers quantity of 1s\n",
    "\n",
    "e = np.array(range(1,6))\n",
    "print (e)\n",
    "Fifth shows a single-dimension array fills with the numbers 1-5 due to the range being 1,6 (starts at 1 ends at 5)\n",
    "\n",
    "np.linspace(0, 5, 50)\n",
    "Sixth shows the creation of array between 0 and 5 but dividing the quantity of steps by 50 and then placing each step in the array"
   ]
  },
  {
   "cell_type": "markdown",
   "metadata": {},
   "source": [
    "3. Type the following code, and explain the results:\n",
    "import numpy as np\n",
    "y = np.array([6, 10, 3, 4, 5, 6, 7])\n",
    "print (y.argmin())\n",
    "i = np.where(y>4)\n",
    "print (i)\n",
    "y.sort()\n",
    "x = y.copy()\n",
    "print (x)"
   ]
  },
  {
   "cell_type": "code",
   "execution_count": 20,
   "metadata": {},
   "outputs": [
    {
     "name": "stdout",
     "output_type": "stream",
     "text": [
      "2\n",
      "(array([0, 1, 4, 5, 6], dtype=int64),)\n",
      "[ 3  4  5  6  6  7 10]\n"
     ]
    }
   ],
   "source": [
    "import numpy as np\n",
    "y = np.array([6, 10, 3, 4, 5, 6, 7])\n",
    "print (y.argmin())\n",
    "i = np.where(y>4)\n",
    "print (i)\n",
    "y.sort()\n",
    "x = y.copy()\n",
    "print (x)"
   ]
  },
  {
   "cell_type": "markdown",
   "metadata": {},
   "source": [
    "y = np.array([6, 10, 3, 4, 5, 6, 7])\n",
    "The first line initializes a numpy array y with the given values.\n",
    "\n",
    "print (y.argmin())\n",
    "the second line argmin() returns the index of the minimum element in the array y. The index 2 will be printed for the value 3\n",
    "\n",
    "i = np.where(y>4)\n",
    "print (i)\n",
    "the third line np.where() returns the index of each element that satisfies the equation in this case where y is greater than 4\n",
    "\n",
    "y.sort()\n",
    "the fourth line sort() function will sort the array y in ascending order\n",
    "\n",
    "x = y.copy()\n",
    "print (x)\n",
    "The fifth line stores a copy of the array but in a different place in memory\n",
    "The last line will print the copy of the array showing the copy exists\n"
   ]
  },
  {
   "cell_type": "markdown",
   "metadata": {},
   "source": [
    "4. Type the following code and explain the results :\n",
    "x = np.random.random_sample((3,3))\n",
    "y = np.random.random_sample((3,3))\n",
    "print (np.dot(x, y))\n",
    "print (np.cross(x, y))\n",
    "print (np.linalg.det(x))\n",
    "print (np.linalg.inv(x))"
   ]
  },
  {
   "cell_type": "code",
   "execution_count": 25,
   "metadata": {},
   "outputs": [
    {
     "name": "stdout",
     "output_type": "stream",
     "text": [
      "[[0.90599078 0.73716421 0.77716878]\n",
      " [0.69367423 0.62461997 0.52559693]\n",
      " [0.21924161 0.22965419 0.1313074 ]]\n",
      "[[ 0.2774143  -0.39922478 -0.03039608]\n",
      " [-0.25724972  0.30209385 -0.06447518]\n",
      " [-0.04875136  0.02549865 -0.00568403]]\n",
      "0.017399881621827033\n",
      "[[  9.40211387 -17.67664939  19.01343807]\n",
      " [-14.42356448  30.48325875 -33.62321787]\n",
      " [  5.19300296 -11.21383574  14.23763396]]\n"
     ]
    }
   ],
   "source": [
    "x = np.random.random_sample((3,3))\n",
    "y = np.random.random_sample((3,3))\n",
    "print (np.dot(x, y))\n",
    "print (np.cross(x, y))\n",
    "print (np.linalg.det(x))\n",
    "print (np.linalg.inv(x))"
   ]
  },
  {
   "cell_type": "markdown",
   "metadata": {},
   "source": [
    "y = np.random.random_sample((3,3)):\n",
    "The first line creates a 3x3 matrix x with random values between 0 and 1.\n",
    "y = np.random.random_sample((3,3))\n",
    "this second line creates a 3x3 matrix y with random values between 0 and 1.\n",
    "\n",
    "print(np.dot(x, y)):\n",
    "The np.dot function calculates the dot product of two matrices. It produces the outcome of matrice multiplcation and stores the values\n",
    "|A B| . |E F| = |A*E+B*G A*F+B*H|\n",
    "|C D|   |G H|   |C*E+D*G C*F+D*H|\n",
    "\n",
    "print(np.cross(x, y)):\n",
    "The np.cross function calculates the cross multiplcation of rows and columns from each matrix and then stores it in a new matrix\n",
    "|A B|   |E F| = |A*E B*F|\n",
    "|C D|   |G H|   |C*G D*H|\n",
    "\n",
    "print(np.linalg.det(x)):\n",
    "The np.linalg.det function calculates the determinant of a matrix. The determinant can be used to solve other mathematical problems\n",
    "\n",
    "print(np.linalg.inv(x)):\n",
    "This will display the inverse of the matrix given"
   ]
  },
  {
   "cell_type": "markdown",
   "metadata": {},
   "source": [
    "5. Type the following code and explain the results:\n",
    "arr = np.arange(10)\n",
    "print (arr)\n",
    "print (arr[5])\n",
    "print (arr[5:8])"
   ]
  },
  {
   "cell_type": "code",
   "execution_count": 26,
   "metadata": {},
   "outputs": [
    {
     "name": "stdout",
     "output_type": "stream",
     "text": [
      "[0 1 2 3 4 5 6 7 8 9]\n",
      "5\n",
      "[5 6 7]\n"
     ]
    }
   ],
   "source": [
    "arr = np.arange(10)\n",
    "print (arr)\n",
    "print (arr[5])\n",
    "print (arr[5:8])"
   ]
  },
  {
   "cell_type": "markdown",
   "metadata": {},
   "source": [
    "arr = np.arange(10):\n",
    "This line initializes an array with values ranging from 0 to 9.\n",
    "\n",
    "print(arr):\n",
    "This line prints the entire array arr, so you will see: [0 1 2 3 4 5 6 7 8 9].\n",
    "\n",
    "print(arr[5]):\n",
    "This line prints the element at index 5 of the array which is 5.\n",
    "\n",
    "\n",
    "print(arr[5:8]):\n",
    "This line prints a splice of the array which will be 5,6,7"
   ]
  },
  {
   "cell_type": "markdown",
   "metadata": {},
   "source": [
    "\n",
    "6. Type the following code, and explain the results:\n",
    "names = np.array(['Bob', 'Joe', 'Will', 'Bob', 'Will', 'Joe', 'Joe'])\n",
    "data = np.random.randn(7, 4)\n",
    "print (names)\n",
    "print ('*******************')\n",
    "print (data)\n",
    "print ('*******************')\n",
    "print (names == 'Bob')\n",
    "print ('*******************')\n",
    "print (data[names == 'Bob'])\n",
    "print ('*******************')\n",
    "print (data[names == 'Bob', 2:])\n",
    "print ('*******************')\n",
    "print (data[names == 'Bob', 3])\n",
    "print ('*******************')\n",
    "mask = (names == 'Bob') | (names == 'Will')\n",
    "print ('*******************')\n",
    "print (mask)\n",
    "print ('*******************')\n",
    "print (data[mask])"
   ]
  },
  {
   "cell_type": "code",
   "execution_count": 29,
   "metadata": {},
   "outputs": [
    {
     "name": "stdout",
     "output_type": "stream",
     "text": [
      "['Bob' 'Joe' 'Will' 'Bob' 'Will' 'Joe' 'Joe']\n",
      "*******************\n",
      "[[-0.17793108 -1.17535484  0.22395287 -0.83612657]\n",
      " [-0.6436291  -0.93540864  1.04532562 -0.3049099 ]\n",
      " [ 1.23968175  1.19493869  1.1058872   0.52002939]\n",
      " [ 1.48123082  1.18671567  0.6963318   2.28025648]\n",
      " [ 1.83555869  0.03440481 -0.31289654  1.57093094]\n",
      " [ 0.72965847 -2.32555888  0.28642496 -0.78365366]\n",
      " [-1.27099383  1.33424583  1.30367296 -0.63633232]]\n",
      "*******************\n",
      "[ True False False  True False False False]\n",
      "*******************\n",
      "[[-0.17793108 -1.17535484  0.22395287 -0.83612657]\n",
      " [ 1.48123082  1.18671567  0.6963318   2.28025648]]\n",
      "*******************\n",
      "[[ 0.22395287 -0.83612657]\n",
      " [ 0.6963318   2.28025648]]\n",
      "*******************\n",
      "[-0.83612657  2.28025648]\n",
      "*******************\n",
      "*******************\n",
      "[ True False  True  True  True False False]\n",
      "*******************\n",
      "[[-0.17793108 -1.17535484  0.22395287 -0.83612657]\n",
      " [ 1.23968175  1.19493869  1.1058872   0.52002939]\n",
      " [ 1.48123082  1.18671567  0.6963318   2.28025648]\n",
      " [ 1.83555869  0.03440481 -0.31289654  1.57093094]]\n"
     ]
    }
   ],
   "source": [
    "names = np.array(['Bob', 'Joe', 'Will', 'Bob', 'Will', 'Joe', 'Joe'])\n",
    "data = np.random.randn(7, 4)\n",
    "print (names)\n",
    "print ('*******************')\n",
    "print (data)\n",
    "print ('*******************')\n",
    "print (names == 'Bob')\n",
    "print ('*******************')\n",
    "print (data[names == 'Bob'])\n",
    "print ('*******************')\n",
    "print (data[names == 'Bob', 2:])\n",
    "print ('*******************')\n",
    "print (data[names == 'Bob', 3])\n",
    "print ('*******************')\n",
    "mask = (names == 'Bob') | (names == 'Will')\n",
    "print ('*******************')\n",
    "print (mask)\n",
    "print ('*******************')\n",
    "print (data[mask])"
   ]
  },
  {
   "cell_type": "markdown",
   "metadata": {},
   "source": [
    "names = np.array(['Bob', 'Joe', 'Will', 'Bob', 'Will', 'Joe', 'Joe']):\n",
    "Creates a numpy array names with specified string values.\n",
    "\n",
    "data = np.random.randn(7, 4):\n",
    "Creates a 7x4 matrix data with random values sampled from the standard normal distribution.\n",
    "\n",
    "print(names):\n",
    "Prints the names array.\n",
    "\n",
    "print('*******************') and print(data):\n",
    "Prints a separator line and then the data array.\n",
    "\n",
    "print(names == 'Bob'):\n",
    "Performs a comparison of the names array to the string 'Bob', producing a boolean array indicating where the string 'Bob' appears in the names array.\n",
    "\n",
    "print(data[names == 'Bob']):\n",
    "Uses boolean indexing to select the rows of data corresponding to the positions where 'Bob' appears in the names array.\n",
    "\n",
    "print(data[names == 'Bob', 2:]):\n",
    "Similar to the previous line, but additionally uses slicing to select only columns 2 and onwards of the rows corresponding to 'Bob'.\n",
    "\n",
    "print(data[names == 'Bob', 3]):\n",
    "Selects only column 3 of the rows corresponding to 'Bob'.\n",
    "\n",
    "mask = (names == 'Bob') | (names == 'Will'):\n",
    "The line mask = (names == 'Bob') | (names == 'Will') is checking each name in the names array to see if it's either 'Bob' or 'Will'. If it is, it records a True for that name; if not, it records a False.\n",
    "\n",
    "print(mask):\n",
    "Prints the mask array.\n",
    "\n",
    "print(data[mask]):\n",
    "Uses the mask array for boolean indexing to select the rows of data corresponding to the positions where names is either 'Bob' or 'Will'.\n"
   ]
  },
  {
   "cell_type": "markdown",
   "metadata": {},
   "source": [
    "7. Given the following matrix:\n",
    "import numpy as np\n",
    "M1 = np.array([[2, 4, 6, 8, 10],\n",
    "[3, 6, 9, -12, -15],\n",
    "[4, 8, 12, 16, -20],\n",
    "[5, -10, 15, -20, 25]])\n",
    "- Print the 1st and 2nd row, and for columns, we want the first, second, and third\n",
    "column.\n",
    "- Print all rows and third columns.\n",
    "- Print the first row and all columns.\n",
    "- Print the first three rows and first 2 columns."
   ]
  },
  {
   "cell_type": "code",
   "execution_count": 31,
   "metadata": {},
   "outputs": [
    {
     "name": "stdout",
     "output_type": "stream",
     "text": [
      "[[2 4 6]\n",
      " [3 6 9]]\n",
      "[ 6  9 12 15]\n",
      "[ 2  4  6  8 10]\n",
      "[[2 4]\n",
      " [3 6]\n",
      " [4 8]]\n"
     ]
    }
   ],
   "source": [
    "import numpy as np\n",
    "M1 = np.array([[2, 4, 6, 8, 10],\n",
    "[3, 6, 9, -12, -15],\n",
    "[4, 8, 12, 16, -20],\n",
    "[5, -10, 15, -20, 25]])\n",
    "\n",
    "print(M1[0:2, 0:3])\n",
    "print(M1[:, 2])\n",
    "print(M1[0, :])\n",
    "print(M1[0:3, 0:2])\n"
   ]
  },
  {
   "cell_type": "markdown",
   "metadata": {},
   "source": [
    "\n",
    "8. Create a numpy array and name it weight_lb (give acceptable weight values for 10\n",
    "humans).\n",
    "- Multiply by 0.453592 to go from pounds to kilograms and store the resulting numpy\n",
    "array as np_weight_kg\n",
    "- Create np_hight_m numpy array and store acceptable height values for 10 humans.\n",
    "- Calculate the BMI of each player using the following equation:\n",
    "- BMI = weight(kg)/ height(m) ** 2\n",
    "- Save the resulting numpy array as bmi\n",
    "- Print out bmi\n",
    "- Create a boolean numpy array: the element of the array should be True if the\n",
    "corresponding baseball player’s BMI is below 21. You can use the < operator for this.\n",
    "Name the array light and print it.\n"
   ]
  },
  {
   "cell_type": "code",
   "execution_count": 36,
   "metadata": {},
   "outputs": [
    {
     "name": "stdout",
     "output_type": "stream",
     "text": [
      "[23.54283737 23.69786776 23.79958025 23.85582469 23.87326316 23.85756739\n",
      " 23.81358    23.74544676 23.65672562 23.55047701]\n",
      "[False False False False False False False False False False]\n"
     ]
    }
   ],
   "source": [
    "import numpy as np\n",
    "weight_lb = np.array([150, 160, 170, 180, 190, 200, 210, 220, 230, 240])\n",
    "np_weight_kg = weight_lb * 0.453592\n",
    "np_height_m = np.array([1.70, 1.75, 1.80, 1.85, 1.90, 1.95, 2.00, 2.05, 2.10, 2.15])\n",
    "bmi = np_weight_kg / np_height_m ** 2\n",
    "print(bmi)\n",
    "light = bmi < 21\n",
    "print(light)"
   ]
  },
  {
   "cell_type": "markdown",
   "metadata": {},
   "source": [
    "\n",
    "\n",
    "\n",
    "\n",
    "\n",
    "\n",
    "\n",
    "\n",
    "\n",
    "\n",
    "\n"
   ]
  },
  {
   "cell_type": "code",
   "execution_count": null,
   "metadata": {},
   "outputs": [],
   "source": []
  }
 ],
 "metadata": {
  "kernelspec": {
   "display_name": "Python 3",
   "language": "python",
   "name": "python3"
  },
  "language_info": {
   "codemirror_mode": {
    "name": "ipython",
    "version": 3
   },
   "file_extension": ".py",
   "mimetype": "text/x-python",
   "name": "python",
   "nbconvert_exporter": "python",
   "pygments_lexer": "ipython3",
   "version": "3.10.2"
  },
  "orig_nbformat": 4
 },
 "nbformat": 4,
 "nbformat_minor": 2
}
