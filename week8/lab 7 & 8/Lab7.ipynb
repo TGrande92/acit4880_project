{
 "cells": [
  {
   "cell_type": "code",
   "execution_count": 122,
   "metadata": {
    "collapsed": false
   },
   "outputs": [
    {
     "data": {
      "text/html": [
       "<div>\n",
       "<style scoped>\n",
       "    .dataframe tbody tr th:only-of-type {\n",
       "        vertical-align: middle;\n",
       "    }\n",
       "\n",
       "    .dataframe tbody tr th {\n",
       "        vertical-align: top;\n",
       "    }\n",
       "\n",
       "    .dataframe thead th {\n",
       "        text-align: right;\n",
       "    }\n",
       "</style>\n",
       "<table border=\"1\" class=\"dataframe\">\n",
       "  <thead>\n",
       "    <tr style=\"text-align: right;\">\n",
       "      <th></th>\n",
       "      <th>pregnant</th>\n",
       "      <th>glucose</th>\n",
       "      <th>bp</th>\n",
       "      <th>skin</th>\n",
       "      <th>insulin</th>\n",
       "      <th>bmi</th>\n",
       "      <th>pedigree</th>\n",
       "      <th>age</th>\n",
       "      <th>label</th>\n",
       "    </tr>\n",
       "  </thead>\n",
       "  <tbody>\n",
       "    <tr>\n",
       "      <th>0</th>\n",
       "      <td>6</td>\n",
       "      <td>148</td>\n",
       "      <td>72</td>\n",
       "      <td>35</td>\n",
       "      <td>0</td>\n",
       "      <td>33.6</td>\n",
       "      <td>0.627</td>\n",
       "      <td>50</td>\n",
       "      <td>1</td>\n",
       "    </tr>\n",
       "    <tr>\n",
       "      <th>1</th>\n",
       "      <td>1</td>\n",
       "      <td>85</td>\n",
       "      <td>66</td>\n",
       "      <td>29</td>\n",
       "      <td>0</td>\n",
       "      <td>26.6</td>\n",
       "      <td>0.351</td>\n",
       "      <td>31</td>\n",
       "      <td>0</td>\n",
       "    </tr>\n",
       "    <tr>\n",
       "      <th>2</th>\n",
       "      <td>8</td>\n",
       "      <td>183</td>\n",
       "      <td>64</td>\n",
       "      <td>0</td>\n",
       "      <td>0</td>\n",
       "      <td>23.3</td>\n",
       "      <td>0.672</td>\n",
       "      <td>32</td>\n",
       "      <td>1</td>\n",
       "    </tr>\n",
       "    <tr>\n",
       "      <th>3</th>\n",
       "      <td>1</td>\n",
       "      <td>89</td>\n",
       "      <td>66</td>\n",
       "      <td>23</td>\n",
       "      <td>94</td>\n",
       "      <td>28.1</td>\n",
       "      <td>0.167</td>\n",
       "      <td>21</td>\n",
       "      <td>0</td>\n",
       "    </tr>\n",
       "    <tr>\n",
       "      <th>4</th>\n",
       "      <td>0</td>\n",
       "      <td>137</td>\n",
       "      <td>40</td>\n",
       "      <td>35</td>\n",
       "      <td>168</td>\n",
       "      <td>43.1</td>\n",
       "      <td>2.288</td>\n",
       "      <td>33</td>\n",
       "      <td>1</td>\n",
       "    </tr>\n",
       "  </tbody>\n",
       "</table>\n",
       "</div>"
      ],
      "text/plain": [
       "   pregnant  glucose  bp  skin  insulin   bmi  pedigree  age  label\n",
       "0         6      148  72    35        0  33.6     0.627   50      1\n",
       "1         1       85  66    29        0  26.6     0.351   31      0\n",
       "2         8      183  64     0        0  23.3     0.672   32      1\n",
       "3         1       89  66    23       94  28.1     0.167   21      0\n",
       "4         0      137  40    35      168  43.1     2.288   33      1"
      ]
     },
     "execution_count": 122,
     "metadata": {},
     "output_type": "execute_result"
    }
   ],
   "source": [
    "# Import libraries\n",
    "import pandas as pd\n",
    " \n",
    "# read the dataset\n",
    "diabetes = pd.read_csv(\"diabetes.csv\")\n",
    " \n",
    "    \n",
    "# Show top 5-records\n",
    "diabetes.head()"
   ]
  },
  {
   "cell_type": "code",
   "execution_count": 123,
   "metadata": {
    "collapsed": false
   },
   "outputs": [],
   "source": [
    "# split dataset in two parts: feature set and target label \n",
    "feature_set = ['pregnant', 'insulin', 'bmi', 'age','glucose','bp','pedigree']\n",
    "features = diabetes[feature_set] \n",
    "target = diabetes.label\n",
    " \n",
    "# partition data into training and testing set \n",
    "from sklearn.model_selection import train_test_split\n",
    "feature_train,feature_test, target_train, target_test = \\\n",
    "train_test_split(features, target, test_size=0.3, random_state=1)"
   ]
  },
  {
   "cell_type": "markdown",
   "metadata": {},
   "source": [
    "## K-Nearest Neighbors Classification"
   ]
  },
  {
   "cell_type": "code",
   "execution_count": 124,
   "metadata": {
    "collapsed": false
   },
   "outputs": [
    {
     "name": "stdout",
     "output_type": "stream",
     "text": [
      "Accuracy: 0.8138528138528138\n",
      "Precision: 0.875\n",
      "Recall: 0.5764705882352941\n",
      "F1-Score: 0.6950354609929078\n"
     ]
    }
   ],
   "source": [
    "# Import KNN model\n",
    "from sklearn.neighbors import KNeighborsClassifier\n",
    " \n",
    "# Create a KNN classifier object\n",
    "model = KNeighborsClassifier(n_neighbors=33)\n",
    " \n",
    "# Train the model using the training dataset\n",
    "model.fit(feature_train,target_train)\n",
    " \n",
    "# Predict the target variable for test dataset\n",
    "predictions = model.predict(feature_test)\n",
    " \n",
    "# Import metrics module for performance evaluation\n",
    "from sklearn.metrics import accuracy_score\n",
    "from sklearn.metrics import precision_score\n",
    "from sklearn.metrics import recall_score\n",
    "from sklearn.metrics import f1_score\n",
    " \n",
    "# Calculate model accuracy\n",
    "print(\"Accuracy:\",accuracy_score(target_test, predictions))\n",
    "# Calculate model precision\n",
    "print(\"Precision:\",precision_score(target_test, predictions))\n",
    "# Calculate model recall\n",
    "print(\"Recall:\",recall_score(target_test, predictions))\n",
    "# Calculate model f1 score\n",
    "print(\"F1-Score:\",f1_score(target_test, predictions))"
   ]
  },
  {
   "cell_type": "markdown",
   "metadata": {},
   "source": [
    "## Confusion Matrix"
   ]
  },
  {
   "cell_type": "code",
   "execution_count": 125,
   "metadata": {
    "collapsed": false
   },
   "outputs": [
    {
     "data": {
      "text/plain": [
       "<sklearn.metrics._plot.confusion_matrix.ConfusionMatrixDisplay at 0x2ce23beceb0>"
      ]
     },
     "execution_count": 125,
     "metadata": {},
     "output_type": "execute_result"
    },
    {
     "data": {
      "image/png": "[encoded data removed]",
      "text/plain": [
       "<Figure size 640x480 with 2 Axes>"
      ]
     },
     "metadata": {},
     "output_type": "display_data"
    }
   ],
   "source": [
    "\n",
    "# Import the confusion matrix\n",
    "# from sklearn.metrics import plot_confusion_matrix\n",
    "\n",
    "# # Plot Confusion matrix\n",
    "# plot_confusion_matrix(model , feature_test, target_test, values_format='d')\n",
    "\n",
    "from sklearn.metrics import confusion_matrix, ConfusionMatrixDisplay\n",
    "\n",
    "# Your model predictions\n",
    "predictions = model.predict(feature_test)\n",
    "\n",
    "# Compute confusion matrix\n",
    "cm = confusion_matrix(target_test, predictions)\n",
    "\n",
    "# Plot the confusion matrix\n",
    "disp = ConfusionMatrixDisplay(confusion_matrix=cm)\n",
    "disp.plot()"
   ]
  },
  {
   "cell_type": "code",
   "execution_count": 126,
   "metadata": {
    "collapsed": false
   },
   "outputs": [
    {
     "name": "stderr",
     "output_type": "stream",
     "text": [
      "No artists with labels found to put in legend.  Note that artists whose label start with an underscore are ignored when legend() is called with no argument.\n"
     ]
    },
    {
     "data": {
      "text/plain": [
       "<sklearn.metrics._plot.roc_curve.RocCurveDisplay at 0x2ce2530f370>"
      ]
     },
     "execution_count": 126,
     "metadata": {},
     "output_type": "execute_result"
    },
    {
     "data": {
      "image/png": "[encoded data removed]",
      "text/plain": [
       "<Figure size 640x480 with 1 Axes>"
      ]
     },
     "metadata": {},
     "output_type": "display_data"
    }
   ],
   "source": [
    "# predictions_prob = model.predict_proba(feature_test)[::,1]\n",
    "\n",
    "# # import plot_roc_curve\n",
    "# from sklearn.metrics import plot_roc_curve\n",
    "\n",
    "# plot_roc_curve(model , feature_test, target_test)\n",
    "\n",
    "from sklearn.metrics import roc_curve, RocCurveDisplay\n",
    "\n",
    "# Assuming model, feature_test, and target_test are already defined\n",
    "predictions_prob = model.predict_proba(feature_test)[:, 1]\n",
    "\n",
    "# Calculate ROC curve\n",
    "fpr, tpr, _ = roc_curve(target_test, predictions_prob)\n",
    "\n",
    "# Plot ROC curve\n",
    "roc_display = RocCurveDisplay(fpr=fpr, tpr=tpr)\n",
    "roc_display.plot()\n"
   ]
  },
  {
   "cell_type": "code",
   "execution_count": 127,
   "metadata": {
    "collapsed": false
   },
   "outputs": [
    {
     "name": "stdout",
     "output_type": "stream",
     "text": [
      "Area Under Curve: 0.8271152296535053\n"
     ]
    }
   ],
   "source": [
    "# import ROC AUC score\n",
    "from sklearn.metrics import roc_auc_score\n",
    "\n",
    "# Compute the area under ROC curve\n",
    "auc = roc_auc_score(target_test, predictions_prob)\n",
    "\n",
    "# Print auc value\n",
    "print(\"Area Under Curve:\",auc)"
   ]
  },
  {
   "cell_type": "markdown",
   "metadata": {},
   "source": [
    "Q1. Based on the above confusion matrix, calculate by using the correct equation: Accuracy, Precision, Recall, F1-score. Explain the meaning of the numbers you get. \n",
    "\n",
    "Q2. Keep modifying the number of neighbours (K) to  7, 17, 15, 21, 25, 33, can you get a higher accuracy, F1-Score? Can you get a better AUC?\n",
    "\n",
    "Q3. Compare your results to the accuracy and AUC of Logistic Regression Model.\n",
    "\n",
    "Q4. Write down all of your comparisons/tables/charts and answers in a document/pdf file. "
   ]
  },
  {
   "cell_type": "markdown",
   "metadata": {},
   "source": [
    "Question 1"
   ]
  },
  {
   "cell_type": "code",
   "execution_count": 128,
   "metadata": {},
   "outputs": [
    {
     "name": "stdout",
     "output_type": "stream",
     "text": [
      "Accuracy: 0.8138528138528138\n",
      "Precision: 0.875\n",
      "Recall: 0.5764705882352941\n",
      "F1-Score: 0.6950354609929078\n"
     ]
    }
   ],
   "source": [
    "tru_pos = cm[1][1]\n",
    "tru_neg = cm[0][0]\n",
    "fal_pos = cm[0][1]\n",
    "fal_neg = cm[1][0]\n",
    "\n",
    "accuracy = (tru_pos + tru_neg) / (tru_pos + tru_neg + fal_pos + fal_neg)\n",
    "print(\"Accuracy:\",accuracy)\n",
    "\n",
    "precision = tru_pos / (tru_pos + fal_pos)\n",
    "print(\"Precision:\",precision)\n",
    "\n",
    "recall = tru_pos / (tru_pos + fal_neg)\n",
    "print(\"Recall:\",recall)\n",
    "\n",
    "f1 = 2 * precision * recall / (precision + recall)\n",
    "print(\"F1-Score:\",f1)"
   ]
  },
  {
   "cell_type": "markdown",
   "metadata": {},
   "source": [
    "We are 74.03% accurate that the model will get a true positive or true negative result.\n",
    "The model is right 74.43% of the time.\n",
    "The model was right 89.72% of the time based on how often we expected it to be right.\n",
    "The f1-score indicates a high level of weight from precision and recall meaning we are expecting it to be right and it is right 81.37% of the time.\n",
    " "
   ]
  },
  {
   "cell_type": "markdown",
   "metadata": {},
   "source": [
    "Question 2"
   ]
  },
  {
   "cell_type": "markdown",
   "metadata": {},
   "source": [
    "n neighbors = 4 \n",
    "Area Under Curve: 0.7803384367445608\n",
    "Accuracy: 0.7402597402597403\n",
    "Precision: 0.7443181818181818\n",
    "Recall: 0.8972602739726028\n",
    "F1-Score: 0.8136645962732918 <br>\n",
    "n neighbors = 7\n",
    "Area Under Curve: 0.7969379532634973\n",
    "Accuracy: 0.7705627705627706\n",
    "Precision: 0.7285714285714285\n",
    "Recall: 0.6\n",
    "F1-Score: 0.6580645161290323 <br>\n",
    "n neighbors = 17\n",
    "Area Under Curve: 0.8281627719580983\n",
    "Accuracy: 0.7835497835497836\n",
    "Precision: 0.7868852459016393\n",
    "Recall: 0.5647058823529412\n",
    "F1-Score: 0.6575342465753424 <br>\n",
    "n neighbors = 15\n",
    "Area Under Curve: 0.821917808219178\n",
    "Accuracy: 0.7922077922077922\n",
    "Precision: 0.7936507936507936\n",
    "Recall: 0.5882352941176471\n",
    "F1-Score: 0.6756756756756757 <br>\n",
    "n neighbors = 21\n",
    "Area Under Curve: 0.821917808219178\n",
    "Accuracy: 0.8008658008658008\n",
    "Precision: 0.8305084745762712\n",
    "Recall: 0.5764705882352941\n",
    "F1-Score: 0.6805555555555555 <br>\n",
    "n neighbors = 25\n",
    "Area Under Curve: 0.8210717163577759\n",
    "Accuracy: 0.7748917748917749\n",
    "Precision: 0.8235294117647058\n",
    "Recall: 0.49411764705882355\n",
    "F1-Score: 0.6176470588235294 <br>\n",
    "n neighbors = 33\n",
    "Area Under Curve: 0.8271152296535053\n",
    "Accuracy: 0.8138528138528138\n",
    "Precision: 0.875\n",
    "Recall: 0.5764705882352941\n",
    "F1-Score: 0.6950354609929078\n",
    "\n",
    "as we change the quantity of neighbors we can see an improvement in varying values, the AUC doesn't significantly increase after increasing k to >= 15 however the fscore, recall, precicsion and accuracy seem to flucuate given any amount of k."
   ]
  },
  {
   "cell_type": "markdown",
   "metadata": {},
   "source": []
  },
  {
   "cell_type": "markdown",
   "metadata": {},
   "source": [
    "Question 3"
   ]
  },
  {
   "cell_type": "code",
   "execution_count": 129,
   "metadata": {},
   "outputs": [
    {
     "name": "stdout",
     "output_type": "stream",
     "text": [
      "[[132  14]\n",
      " [ 36  49]]\n",
      "Accuracy: 0.7835497835497836\n",
      "F1:  0.6621621621621621\n",
      "Area Under Curve: 0.8271152296535053\n"
     ]
    }
   ],
   "source": [
    "# Import libraries\n",
    "import pandas as pd\n",
    " \n",
    "# read the dataset\n",
    "diabetes = pd.read_csv(\"diabetes.csv\")\n",
    "\n",
    "# split dataset in two parts: feature set and target label \n",
    "feature_set = ['pregnant', 'insulin', 'bmi', 'age','glucose','bp','pedigree']\n",
    "features = diabetes[feature_set] \n",
    "target = diabetes.label\n",
    "\n",
    "from sklearn.model_selection import train_test_split\n",
    "feature_train, feature_test, target_train, target_test = train_test_split(features, target, test_size=0.3, random_state=1)\n",
    "\n",
    "# import logistic regression scikit-learn model\n",
    "from sklearn.linear_model import LogisticRegression\n",
    "from sklearn.metrics import accuracy_score # for performance evaluation\n",
    " \n",
    "# instantiate the model\n",
    "logreg = LogisticRegression(solver='lbfgs')\n",
    " \n",
    "# fit the model with data\n",
    "logreg.fit(feature_train,target_train)\n",
    " \n",
    "# Forecast the target variable for given test dataset\n",
    "predictions = logreg.predict(feature_test)\n",
    "#print(abs(predictions - target_test))\n",
    "\n",
    " \n",
    "# Assess model performance using accuracy measure\n",
    "from sklearn import metrics\n",
    "cnf_matrix = metrics.confusion_matrix(target_test, predictions)\n",
    "print (cnf_matrix)\n",
    "print(\"Accuracy:\",metrics.accuracy_score(target_test, predictions))\n",
    "\n",
    "print (\"F1: \", metrics.f1_score(target_test, predictions, average='binary'))\n",
    "auc = roc_auc_score(target_test, predictions_prob)\n",
    "\n",
    "# Print auc value\n",
    "print(\"Area Under Curve:\",auc)"
   ]
  },
  {
   "cell_type": "markdown",
   "metadata": {},
   "source": [
    "(Logistic Regression)[[132  14]\n",
    " [ 36  49]]\n",
    "Accuracy: 0.7835497835497836\n",
    "F1:  0.6621621621621621\n",
    "Area Under Curve: 0.8271152296535053 <br>\n",
    "vs<br>\n",
    "(K model)\n",
    "[[139 7]\n",
    " [36 49]]\n",
    "Accuracy: 0.8138528138528138\n",
    "F1-Score: 0.6950354609929078\n",
    "Area Under Curve: 0.8271152296535053\n",
    "The two confusion matrices look very similar however the AUC of both models is the same. While the k model might be more accurate they but the k model is more accurate more of the time given the higher f1-score (given k = 33)."
   ]
  }
 ],
 "metadata": {
  "anaconda-cloud": {},
  "kernelspec": {
   "display_name": "Python 3",
   "language": "python",
   "name": "python3"
  },
  "language_info": {
   "codemirror_mode": {
    "name": "ipython",
    "version": 3
   },
   "file_extension": ".py",
   "mimetype": "text/x-python",
   "name": "python",
   "nbconvert_exporter": "python",
   "pygments_lexer": "ipython3",
   "version": "3.10.2"
  }
 },
 "nbformat": 4,
 "nbformat_minor": 2
}
