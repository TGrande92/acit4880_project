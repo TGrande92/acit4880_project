{
 "cells": [
  {
   "cell_type": "code",
   "execution_count": 1,
   "metadata": {},
   "outputs": [
    {
     "name": "stdout",
     "output_type": "stream",
     "text": [
      "0    10\n",
      "1    20\n",
      "2    30\n",
      "3    40\n",
      "4    50\n",
      "dtype: int32\n"
     ]
    }
   ],
   "source": [
    "import pandas, numpy\n",
    "\n",
    "arr = numpy.array([10, 20, 30, 40, 50])\n",
    "\n",
    "series = pandas.Series(arr)\n",
    "\n",
    "print (series)"
   ]
  },
  {
   "cell_type": "markdown",
   "metadata": {},
   "source": [
    "The numpy array creates a list of integers while the panda.series converts the data into a plot series."
   ]
  },
  {
   "cell_type": "code",
   "execution_count": 2,
   "metadata": {},
   "outputs": [
    {
     "name": "stdout",
     "output_type": "stream",
     "text": [
      "a    10\n",
      "b    20\n",
      "c    30\n",
      "dtype: int64\n"
     ]
    }
   ],
   "source": [
    "import pandas\n",
    "\n",
    "data = {'a': 10, 'b': 20, 'c': 30}\n",
    "\n",
    "series = pandas.Series(data)\n",
    "\n",
    "print (series)"
   ]
  },
  {
   "cell_type": "markdown",
   "metadata": {},
   "source": [
    "In this instance, the panda.Series module converts the data dictionary into a plot by using the keys as rows and the values in the column."
   ]
  },
  {
   "cell_type": "code",
   "execution_count": 3,
   "metadata": {},
   "outputs": [
    {
     "name": "stdout",
     "output_type": "stream",
     "text": [
      "1    20\n",
      "2    30\n",
      "3    40\n",
      "dtype: int64\n"
     ]
    }
   ],
   "source": [
    "import pandas\n",
    "\n",
    "s = pandas.Series([10, 20, 30, 40, 50])\n",
    "\n",
    "print (s[1:4])"
   ]
  },
  {
   "cell_type": "markdown",
   "metadata": {},
   "source": [
    "The print shows a plot but only places index 1,2 and 3 and places them with the the same rows that would be placed if it wasn't sliced. "
   ]
  },
  {
   "cell_type": "code",
   "execution_count": 4,
   "metadata": {},
   "outputs": [
    {
     "name": "stdout",
     "output_type": "stream",
     "text": [
      "    0\n",
      "0  10\n",
      "1  20\n",
      "2  30\n",
      "3  40\n"
     ]
    }
   ],
   "source": [
    "import pandas\n",
    "\n",
    "listx = [10, 20, 30, 40]\n",
    "\n",
    "table = pandas.DataFrame(listx)\n",
    "\n",
    "print (table)"
   ]
  },
  {
   "cell_type": "markdown",
   "metadata": {},
   "source": [
    "DataFrame converts the list in a row/column plot"
   ]
  },
  {
   "cell_type": "code",
   "execution_count": 5,
   "metadata": {},
   "outputs": [
    {
     "name": "stdout",
     "output_type": "stream",
     "text": [
      "        a  b    c\n",
      "first   1  2  NaN\n",
      "second  2  4  8.0\n"
     ]
    }
   ],
   "source": [
    "import pandas\n",
    "\n",
    "data = [{'a': 1, 'b': 2}, {'a': 2, 'b':4, 'c':8}]\n",
    "\n",
    "table = pandas.DataFrame(data, index = ['first', 'second'])\n",
    "\n",
    "print (table)"
   ]
  },
  {
   "cell_type": "markdown",
   "metadata": {},
   "source": [
    "Using the index as the rows it creates a row/column plot and fills any holes with nulls // Not a number."
   ]
  },
  {
   "cell_type": "code",
   "execution_count": 7,
   "metadata": {},
   "outputs": [
    {
     "name": "stdout",
     "output_type": "stream",
     "text": [
      "   one  two\n",
      "a  1.0    1\n",
      "b  2.0    2\n",
      "c  3.0    3\n",
      "d  NaN    4\n"
     ]
    }
   ],
   "source": [
    "import pandas\n",
    "\n",
    "data = {'one': pandas.Series([1, 2, 3], index = ['a', 'b', 'c']),\n",
    "\n",
    "'two': pandas.Series([1, 2, 3, 4], index = ['a', 'b', 'c', 'd'])}\n",
    "\n",
    "\n",
    "table = pandas.DataFrame(data)\n",
    "\n",
    "print(table)"
   ]
  },
  {
   "cell_type": "markdown",
   "metadata": {},
   "source": [
    "It takes the dictionary and is able to create a unique set which is a panda series with specific indicies."
   ]
  },
  {
   "cell_type": "code",
   "execution_count": 8,
   "metadata": {},
   "outputs": [
    {
     "name": "stdout",
     "output_type": "stream",
     "text": [
      "   one  two  three\n",
      "a  1.0    1   10.0\n",
      "b  2.0    2   20.0\n",
      "c  3.0    3   30.0\n",
      "d  NaN    4    NaN\n",
      "   two  three\n",
      "a    1   10.0\n",
      "b    2   20.0\n",
      "c    3   30.0\n",
      "d    4    NaN\n",
      "a    1\n",
      "b    2\n",
      "c    3\n",
      "d    4\n",
      "Name: two, dtype: int64\n",
      "   three\n",
      "a   10.0\n",
      "b   20.0\n",
      "c   30.0\n",
      "d    NaN\n",
      "three    30.0\n",
      "Name: c, dtype: float64\n",
      "three    30.0\n",
      "Name: c, dtype: float64\n"
     ]
    }
   ],
   "source": [
    "import pandas\n",
    "\n",
    "\n",
    "data = {'one': pandas.Series([1, 2, 3], index = ['a', 'b', 'c']),\n",
    "\n",
    "'two': pandas.Series([1, 2, 3, 4], index = ['a', 'b', 'c', 'd'])}\n",
    "\n",
    "\n",
    "table = pandas.DataFrame(data)\n",
    "\n",
    "table['three'] = pandas.Series([10, 20, 30], index = ['a', 'b', 'c'])\n",
    "\n",
    "print(table)\n",
    "\n",
    "del table['one']\n",
    "\n",
    "print (table)\n",
    "\n",
    "col = table.pop('two')\n",
    "\n",
    "print (col)\n",
    "\n",
    "print (table)\n",
    "\n",
    "\n",
    "print (table.loc['c'])\n",
    "\n",
    "print (table.iloc[2])"
   ]
  },
  {
   "cell_type": "markdown",
   "metadata": {},
   "source": [
    "This shows how the same data can be altered to display different ways by printing diffent sections of the dataframe or how altering the dataframe will be displayed."
   ]
  },
  {
   "cell_type": "code",
   "execution_count": 9,
   "metadata": {},
   "outputs": [
    {
     "name": "stdout",
     "output_type": "stream",
     "text": [
      "      0  1\n",
      "row3  1  2\n",
      "row1  3  4\n",
      "row2  5  6\n"
     ]
    }
   ],
   "source": [
    "import pandas as pd\n",
    "\n",
    "a_row = pd.Series([1, 2])\n",
    "\n",
    "df = pd.DataFrame([[3, 4], [5, 6]], index = [\"row1\", \"row2\"])\n",
    "\n",
    "row_df = pd.DataFrame([a_row], index = [\"row3\"])\n",
    "\n",
    "df = pd.concat([row_df, df])\n",
    "\n",
    "print(df)"
   ]
  },
  {
   "cell_type": "markdown",
   "metadata": {},
   "source": [
    "This shows that when we concat two different frames the data from the first argument will be placed at the top of the dataframe and shows the next argument also added to the dataframe."
   ]
  },
  {
   "cell_type": "code",
   "execution_count": 10,
   "metadata": {},
   "outputs": [
    {
     "name": "stdout",
     "output_type": "stream",
     "text": [
      "Original DataFrame\n",
      "------------------\n",
      "   name  physics  chemistry  algebra\n",
      "0  Somu       68         84       78\n",
      "1  Kiku       74         56       88\n",
      "2  Amol       77         73       82\n",
      "3  Lini       78         69       87\n",
      "\n",
      "\n",
      "New row added to DataFrame\n",
      "--------------------------\n",
      "   name  physics  chemistry  algebra\n",
      "0  Somu       68         84       78\n",
      "1  Kiku       74         56       88\n",
      "2  Amol       77         73       82\n",
      "3  Lini       78         69       87\n",
      "4   Geo       87         92       97\n"
     ]
    },
    {
     "name": "stderr",
     "output_type": "stream",
     "text": [
      "C:\\Users\\tyler\\AppData\\Local\\Temp/ipykernel_42424/3941812693.py:26: FutureWarning: The frame.append method is deprecated and will be removed from pandas in a future version. Use pandas.concat instead.\n",
      "  df_marks = df_marks.append(new_row, ignore_index=True)\n"
     ]
    }
   ],
   "source": [
    "import pandas as pd\n",
    "\n",
    "data = {'name': ['Somu', 'Kiku', 'Amol', 'Lini'],\n",
    "\n",
    "'physics': [68, 74, 77, 78],\n",
    "\n",
    "'chemistry': [84, 56, 73, 69],\n",
    "\n",
    "'algebra': [78, 88, 82, 87]}\n",
    "\n",
    "\n",
    "\n",
    "#create dataframe\n",
    "\n",
    "df_marks = pd.DataFrame(data)\n",
    "\n",
    "print('Original DataFrame\\n------------------')\n",
    "\n",
    "print(df_marks)\n",
    "\n",
    "\n",
    "new_row = {'name':'Geo', 'physics':87, 'chemistry':92, 'algebra':97}\n",
    "\n",
    "#append row to the dataframe\n",
    "\n",
    "df_marks = df_marks.append(new_row, ignore_index=True)\n",
    "\n",
    "\n",
    "print('\\n\\nNew row added to DataFrame\\n--------------------------')\n",
    "\n",
    "print(df_marks)"
   ]
  },
  {
   "cell_type": "markdown",
   "metadata": {},
   "source": [
    "After converting the dictionary to a dataframe this shows that we can append rows to the dataframe and it will store the newly added row even though it was added later when it was called."
   ]
  },
  {
   "cell_type": "code",
   "execution_count": null,
   "metadata": {},
   "outputs": [],
   "source": [
    "import pandas as pd\n",
    "\n",
    "df = pandas.read_csv('SalesManager.csv')\n",
    "\n",
    "total_units = df['Units'].sum()\n",
    "avg_units = df['Units'].mean()\n",
    "print(f\"Total Units Sold: {total_units}\")\n",
    "print(f\"Average Units Sold: {avg_units}\")\n",
    "\n",
    "\n",
    "\n",
    "print(df['Sales Manager'].str.strip().unique())\n",
    "\n",
    "print(df.iloc[0])\n",
    "print(df.iloc[3])\n",
    "\n",
    "new_record = {'Manager': 'New Manager', 'Region': 'New Region', 'Units': 50}\n",
    "df = df.append(new_record, ignore_index=True)\n",
    "\n",
    "df = df.drop(26)\n",
    "\n",
    "df.to_csv('UpdatedSalesManagers.csv', index=False)"
   ]
  }
 ],
 "metadata": {
  "kernelspec": {
   "display_name": "Python 3",
   "language": "python",
   "name": "python3"
  },
  "language_info": {
   "codemirror_mode": {
    "name": "ipython",
    "version": 3
   },
   "file_extension": ".py",
   "mimetype": "text/x-python",
   "name": "python",
   "nbconvert_exporter": "python",
   "pygments_lexer": "ipython3",
   "version": "3.10.2"
  },
  "orig_nbformat": 4
 },
 "nbformat": 4,
 "nbformat_minor": 2
}
