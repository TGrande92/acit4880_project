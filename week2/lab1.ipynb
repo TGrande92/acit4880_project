{
 "cells": [
  {
   "cell_type": "markdown",
   "metadata": {},
   "source": [
    "Part 1\n",
    "Write four functions, each taking two arguments to do their arithmetic addition, subtraction,\n",
    "division, and multiplication operations using anonymous functions."
   ]
  },
  {
   "cell_type": "code",
   "execution_count": 36,
   "metadata": {},
   "outputs": [
    {
     "name": "stdout",
     "output_type": "stream",
     "text": [
      "Added value:  30\n",
      "Subtracted value:  -10\n",
      "Multiplied value:  200\n",
      "Divided value:  0.5\n"
     ]
    }
   ],
   "source": [
    "added_value = lambda a,b: a+b\n",
    "subtracted_value = lambda a,b: a-b\n",
    "multiplied_value = lambda a,b: a*b\n",
    "divided_value = lambda a,b: a/b\n",
    "\n",
    "print('Added value: ', added_value(10,20))\n",
    "print('Subtracted value: ', subtracted_value(10,20))\n",
    "print('Multiplied value: ', multiplied_value(10,20))\n",
    "print('Divided value: ', divided_value(10,20))"
   ]
  },
  {
   "cell_type": "markdown",
   "metadata": {},
   "source": [
    "Part 2\n",
    "Write a program to display all prime numbers between 25 and 50. Use loop with range and\n",
    "if statements."
   ]
  },
  {
   "cell_type": "code",
   "execution_count": 20,
   "metadata": {},
   "outputs": [
    {
     "name": "stdout",
     "output_type": "stream",
     "text": [
      "[29, 31, 37, 41, 43, 47]\n"
     ]
    }
   ],
   "source": [
    "def prime_numbers(num1, num2):\n",
    "    numbers = []\n",
    "    for i in range(num1, num2+1):\n",
    "        if i > 1:\n",
    "            for j in range(2, i):\n",
    "                if (i % j) == 0:\n",
    "                    break\n",
    "            else:\n",
    "                numbers.append(i)\n",
    "    return numbers\n",
    "\n",
    "print(prime_numbers(25,50))"
   ]
  },
  {
   "cell_type": "markdown",
   "metadata": {},
   "source": [
    "Part 3\n",
    "3. Use Python map and lambda functions to do the above example"
   ]
  },
  {
   "cell_type": "code",
   "execution_count": 28,
   "metadata": {},
   "outputs": [
    {
     "name": "stdout",
     "output_type": "stream",
     "text": [
      "[29, 31, 37, 41, 43, 47]\n"
     ]
    }
   ],
   "source": [
    "import sympy\n",
    "numbers = range(25,50)\n",
    "print(list(filter(lambda x: sympy.isprime(x), numbers)))"
   ]
  },
  {
   "cell_type": "markdown",
   "metadata": {},
   "source": [
    "Part 4\n",
    "Use nested for loops in python to print the multiplication table from 1 to 9"
   ]
  },
  {
   "cell_type": "code",
   "execution_count": 33,
   "metadata": {},
   "outputs": [
    {
     "name": "stdout",
     "output_type": "stream",
     "text": [
      "1\t2\t3\t4\t5\t6\t7\t8\t9\t\n",
      "\n",
      "2\t4\t6\t8\t10\t12\t14\t16\t18\t\n",
      "\n",
      "3\t6\t9\t12\t15\t18\t21\t24\t27\t\n",
      "\n",
      "4\t8\t12\t16\t20\t24\t28\t32\t36\t\n",
      "\n",
      "5\t10\t15\t20\t25\t30\t35\t40\t45\t\n",
      "\n",
      "6\t12\t18\t24\t30\t36\t42\t48\t54\t\n",
      "\n",
      "7\t14\t21\t28\t35\t42\t49\t56\t63\t\n",
      "\n",
      "8\t16\t24\t32\t40\t48\t56\t64\t72\t\n",
      "\n",
      "9\t18\t27\t36\t45\t54\t63\t72\t81\t\n",
      "\n"
     ]
    }
   ],
   "source": [
    "def multiplication_table():\n",
    "    for num in range(1,10):\n",
    "        for i in range(1,10):\n",
    "            print(num*i, end=\"\\t\")\n",
    "        print(\"\\n\")\n",
    "\n",
    "multiplication_table()"
   ]
  },
  {
   "cell_type": "markdown",
   "metadata": {},
   "source": [
    "Part 5\n",
    "Find the sum of the list elements. Also find the average, count, min, max, and then sort the\n",
    "list in descending order. You can use API functions defined for lists in python, for average\n",
    "write a user-defined function to calculate the average of a list."
   ]
  },
  {
   "cell_type": "code",
   "execution_count": 35,
   "metadata": {},
   "outputs": [
    {
     "name": "stdout",
     "output_type": "stream",
     "text": [
      "Sum of numbers:  108\n",
      "Count of numbers:  8\n",
      "Min of numbers:  3\n",
      "Max of numbers:  24\n",
      "Average of numbers:  13.5\n",
      "Descending order:  [24, 21, 18, 15, 12, 9, 6, 3]\n"
     ]
    }
   ],
   "source": [
    "numbers = [24,21,15,3,6,9,12,18]\n",
    "sum_of_numbers = lambda: sum(numbers)\n",
    "count_of_numbers = lambda: len(numbers)\n",
    "min_of_numbers = lambda: min(numbers)\n",
    "max_of_numbers = lambda: max(numbers)\n",
    "descending_order = lambda: sorted(numbers, reverse=True)\n",
    "\n",
    "def average_of_numbers():\n",
    "    return sum_of_numbers()/count_of_numbers()\n",
    "\n",
    "print('Sum of numbers: ', sum_of_numbers())\n",
    "print('Count of numbers: ', count_of_numbers())\n",
    "print('Min of numbers: ', min_of_numbers())\n",
    "print('Max of numbers: ', max_of_numbers())\n",
    "print('Average of numbers: ', average_of_numbers())\n",
    "print('Descending order: ', descending_order())\n",
    "\n"
   ]
  }
 ],
 "metadata": {
  "kernelspec": {
   "display_name": "Python 3",
   "language": "python",
   "name": "python3"
  },
  "language_info": {
   "codemirror_mode": {
    "name": "ipython",
    "version": 3
   },
   "file_extension": ".py",
   "mimetype": "text/x-python",
   "name": "python",
   "nbconvert_exporter": "python",
   "pygments_lexer": "ipython3",
   "version": "3.10.2"
  },
  "orig_nbformat": 4
 },
 "nbformat": 4,
 "nbformat_minor": 2
}
